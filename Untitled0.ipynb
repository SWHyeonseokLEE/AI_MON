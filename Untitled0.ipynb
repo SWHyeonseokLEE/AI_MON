{
  "nbformat": 4,
  "nbformat_minor": 0,
  "metadata": {
    "colab": {
      "provenance": [],
      "authorship_tag": "ABX9TyPZHGs0p7Lv7ePX8C4WzHMc",
      "include_colab_link": true
    },
    "kernelspec": {
      "name": "python3",
      "display_name": "Python 3"
    },
    "language_info": {
      "name": "python"
    },
    "accelerator": "GPU",
    "gpuClass": "standard"
  },
  "cells": [
    {
      "cell_type": "markdown",
      "metadata": {
        "id": "view-in-github",
        "colab_type": "text"
      },
      "source": [
        "<a href=\"https://colab.research.google.com/github/SWHyeonseokLEE/AI_MON/blob/main/Untitled0.ipynb\" target=\"_parent\"><img src=\"https://colab.research.google.com/assets/colab-badge.svg\" alt=\"Open In Colab\"/></a>"
      ]
    },
    {
      "cell_type": "code",
      "execution_count": null,
      "metadata": {
        "colab": {
          "base_uri": "https://localhost:8080/"
        },
        "id": "4o_1_WF4YGHv",
        "outputId": "37cbdbb8-3c1e-4d74-b60c-3d0837dc9bed"
      },
      "outputs": [
        {
          "output_type": "stream",
          "name": "stdout",
          "text": [
            "0\n",
            "1\n",
            "2\n",
            "3\n",
            "4\n",
            "5\n",
            "6\n",
            "7\n",
            "8\n",
            "9\n"
          ]
        }
      ],
      "source": [
        "for i in range(10):\n",
        "  print (i)"
      ]
    },
    {
      "cell_type": "code",
      "source": [
        "a=[1,2,3,4,5,6,7,8,9,10]\n",
        "\n",
        "for i in a:\n",
        "  n=2*i+1\n",
        "  print(ia[2*i+1]"
      ],
      "metadata": {
        "colab": {
          "base_uri": "https://localhost:8080/",
          "height": 137
        },
        "id": "XXOqFmQTYk2U",
        "outputId": "97c92067-bd41-4ea7-ffb9-2f1e22712ab8"
      },
      "execution_count": null,
      "outputs": [
        {
          "output_type": "error",
          "ename": "SyntaxError",
          "evalue": "ignored",
          "traceback": [
            "\u001b[0;36m  File \u001b[0;32m\"<ipython-input-8-79329e6a3045>\"\u001b[0;36m, line \u001b[0;32m5\u001b[0m\n\u001b[0;31m    print(ia[2*i+1]\u001b[0m\n\u001b[0m                   ^\u001b[0m\n\u001b[0;31mSyntaxError\u001b[0m\u001b[0;31m:\u001b[0m unexpected EOF while parsing\n"
          ]
        }
      ]
    },
    {
      "cell_type": "code",
      "source": [
        "a=[]\n",
        "for i in range(1,4):\n",
        "  a.append(i)\n",
        "print(a)"
      ],
      "metadata": {
        "colab": {
          "base_uri": "https://localhost:8080/"
        },
        "id": "qo7myCMJYi9U",
        "outputId": "f248027c-88e7-42bc-d324-9846961146e5"
      },
      "execution_count": null,
      "outputs": [
        {
          "output_type": "stream",
          "name": "stdout",
          "text": [
            "[1, 2, 3]\n"
          ]
        }
      ]
    },
    {
      "cell_type": "code",
      "source": [
        "b=[]\n",
        "for i in range(4,7):\n",
        "  b.append(i)\n",
        "print(b)"
      ],
      "metadata": {
        "colab": {
          "base_uri": "https://localhost:8080/"
        },
        "id": "D2o6cvpfa1ag",
        "outputId": "dbfd5edb-10ca-4d96-d256-18fd04b424f4"
      },
      "execution_count": null,
      "outputs": [
        {
          "output_type": "stream",
          "name": "stdout",
          "text": [
            "[4, 5, 6]\n"
          ]
        }
      ]
    },
    {
      "cell_type": "code",
      "source": [
        "c = []\n",
        "for i in range(3,6):\n",
        "  c.append(i)\n",
        "print(c)"
      ],
      "metadata": {
        "colab": {
          "base_uri": "https://localhost:8080/"
        },
        "id": "_bmWJI7Wa_Uv",
        "outputId": "d9c5bda3-7052-45ce-dc63-dcbc9d062d7e"
      },
      "execution_count": null,
      "outputs": [
        {
          "output_type": "stream",
          "name": "stdout",
          "text": [
            "[3, 4, 5]\n"
          ]
        }
      ]
    },
    {
      "cell_type": "code",
      "source": [
        "#합집합\n",
        "U1 = a+b\n",
        "U1"
      ],
      "metadata": {
        "colab": {
          "base_uri": "https://localhost:8080/"
        },
        "id": "8FeItmWJbP7v",
        "outputId": "716aa8d4-dbea-4c69-aebd-405ca403577f"
      },
      "execution_count": null,
      "outputs": [
        {
          "output_type": "execute_result",
          "data": {
            "text/plain": [
              "[1, 2, 3, 4, 5, 6]"
            ]
          },
          "metadata": {},
          "execution_count": 11
        }
      ]
    },
    {
      "cell_type": "code",
      "source": [
        "U2 = a+c\n",
        "U2"
      ],
      "metadata": {
        "colab": {
          "base_uri": "https://localhost:8080/"
        },
        "id": "ZLocsHG0bZ9X",
        "outputId": "794a6da4-6207-4898-994a-eff33ab8d0ef"
      },
      "execution_count": null,
      "outputs": [
        {
          "output_type": "execute_result",
          "data": {
            "text/plain": [
              "[1, 2, 3, 3, 4, 5]"
            ]
          },
          "metadata": {},
          "execution_count": 14
        }
      ]
    },
    {
      "cell_type": "code",
      "source": [
        "I = []\n",
        "for i in a:\n",
        "  if i in c:\n",
        "    a.remove(i)\n",
        "a"
      ],
      "metadata": {
        "colab": {
          "base_uri": "https://localhost:8080/"
        },
        "id": "bncuvexZbgDn",
        "outputId": "19d373e5-b142-4a7a-ec2b-c119f1f708b5"
      },
      "execution_count": null,
      "outputs": [
        {
          "output_type": "execute_result",
          "data": {
            "text/plain": [
              "[1, 2]"
            ]
          },
          "metadata": {},
          "execution_count": 15
        }
      ]
    },
    {
      "cell_type": "code",
      "source": [
        "for i in a:\n",
        "  c.append(i)\n",
        "c"
      ],
      "metadata": {
        "colab": {
          "base_uri": "https://localhost:8080/"
        },
        "id": "6f1kQMyjei_e",
        "outputId": "0e47a14e-199e-4799-b727-7ddd3b13e391"
      },
      "execution_count": null,
      "outputs": [
        {
          "output_type": "execute_result",
          "data": {
            "text/plain": [
              "[3, 4, 5, 1, 2]"
            ]
          },
          "metadata": {},
          "execution_count": 16
        }
      ]
    },
    {
      "cell_type": "code",
      "source": [
        "c.sort()"
      ],
      "metadata": {
        "id": "sANgnjKvfjlv"
      },
      "execution_count": null,
      "outputs": []
    },
    {
      "cell_type": "code",
      "source": [
        "c"
      ],
      "metadata": {
        "colab": {
          "base_uri": "https://localhost:8080/"
        },
        "id": "zV6mNpnXfngn",
        "outputId": "c5ead2c5-f7f0-44e9-e228-19bc7a146ecf"
      },
      "execution_count": null,
      "outputs": [
        {
          "output_type": "execute_result",
          "data": {
            "text/plain": [
              "[1, 2, 3, 4, 5]"
            ]
          },
          "metadata": {},
          "execution_count": 18
        }
      ]
    },
    {
      "cell_type": "code",
      "source": [
        "list = [1,2,3,4,5,6]\n",
        "for i in range(6):\n",
        "  print(2*i+1)"
      ],
      "metadata": {
        "colab": {
          "base_uri": "https://localhost:8080/"
        },
        "id": "5_TPkB6Fgoy_",
        "outputId": "a0d58fc2-d028-4a73-e454-a0d73b120e6c"
      },
      "execution_count": null,
      "outputs": [
        {
          "output_type": "stream",
          "name": "stdout",
          "text": [
            "1\n",
            "3\n",
            "5\n",
            "7\n",
            "9\n",
            "11\n"
          ]
        }
      ]
    },
    {
      "cell_type": "code",
      "source": [
        "c.sort()"
      ],
      "metadata": {
        "id": "mdlhpRMbhUbu"
      },
      "execution_count": null,
      "outputs": []
    },
    {
      "cell_type": "code",
      "source": [
        "c"
      ],
      "metadata": {
        "colab": {
          "base_uri": "https://localhost:8080/"
        },
        "id": "5gN7OTkchghu",
        "outputId": "82c24098-50b4-446e-e2ad-0a9332d8f789"
      },
      "execution_count": null,
      "outputs": [
        {
          "output_type": "execute_result",
          "data": {
            "text/plain": [
              "[1, 2, 3, 4, 5]"
            ]
          },
          "metadata": {},
          "execution_count": 21
        }
      ]
    },
    {
      "cell_type": "code",
      "source": [
        "1\n"
      ],
      "metadata": {
        "colab": {
          "base_uri": "https://localhost:8080/"
        },
        "id": "toyDQoxuhiMW",
        "outputId": "a0945d0b-db14-43ba-b9bb-a9fbb9986480"
      },
      "execution_count": null,
      "outputs": [
        {
          "output_type": "execute_result",
          "data": {
            "text/plain": [
              "1"
            ]
          },
          "metadata": {},
          "execution_count": 22
        }
      ]
    },
    {
      "cell_type": "code",
      "source": [
        "num=1\n",
        "print(\"몇 단?\")\n",
        "dan = int(input())\n",
        "while num<10:\n",
        "  print((num*dan))\n",
        "  num+=1"
      ],
      "metadata": {
        "colab": {
          "base_uri": "https://localhost:8080/"
        },
        "id": "7rEQXjAAlI1d",
        "outputId": "263017dc-ad10-48bd-e591-f22503ceadab"
      },
      "execution_count": null,
      "outputs": [
        {
          "output_type": "stream",
          "name": "stdout",
          "text": [
            "몇 단?\n",
            "3\n",
            "3\n",
            "6\n",
            "9\n",
            "12\n",
            "15\n",
            "18\n",
            "21\n",
            "24\n",
            "27\n"
          ]
        }
      ]
    },
    {
      "cell_type": "code",
      "source": [
        "while "
      ],
      "metadata": {
        "id": "8BP5cd15mjdl"
      },
      "execution_count": null,
      "outputs": []
    },
    {
      "cell_type": "code",
      "source": [
        "while True:\n",
        "  print(\"비밀번호 입력:  \")\n",
        "  num = int(input())\n",
        "  if num == '123456789!!':\n",
        "    print(\"login되었습니다.\\n\")\n",
        "    break\n",
        "\n",
        "  else:\n",
        "     print(\"비밀번호를 확인해주세요.\\n\") \n",
        "     continue"
      ],
      "metadata": {
        "colab": {
          "base_uri": "https://localhost:8080/",
          "height": 284
        },
        "id": "RHyHdVERly5l",
        "outputId": "64aeb9dd-a67d-4327-938c-9d75bff3ce6a"
      },
      "execution_count": null,
      "outputs": [
        {
          "name": "stdout",
          "output_type": "stream",
          "text": [
            "비밀번호 입력:  \n",
            "123456789!!\n"
          ]
        },
        {
          "output_type": "error",
          "ename": "ValueError",
          "evalue": "ignored",
          "traceback": [
            "\u001b[0;31m---------------------------------------------------------------------------\u001b[0m",
            "\u001b[0;31mValueError\u001b[0m                                Traceback (most recent call last)",
            "\u001b[0;32m<ipython-input-34-94e5713b20f2>\u001b[0m in \u001b[0;36m<module>\u001b[0;34m\u001b[0m\n\u001b[1;32m      1\u001b[0m \u001b[0;32mwhile\u001b[0m \u001b[0;32mTrue\u001b[0m\u001b[0;34m:\u001b[0m\u001b[0;34m\u001b[0m\u001b[0;34m\u001b[0m\u001b[0m\n\u001b[1;32m      2\u001b[0m   \u001b[0mprint\u001b[0m\u001b[0;34m(\u001b[0m\u001b[0;34m\"비밀번호 입력:  \"\u001b[0m\u001b[0;34m)\u001b[0m\u001b[0;34m\u001b[0m\u001b[0;34m\u001b[0m\u001b[0m\n\u001b[0;32m----> 3\u001b[0;31m   \u001b[0mnum\u001b[0m \u001b[0;34m=\u001b[0m \u001b[0mint\u001b[0m\u001b[0;34m(\u001b[0m\u001b[0minput\u001b[0m\u001b[0;34m(\u001b[0m\u001b[0;34m)\u001b[0m\u001b[0;34m)\u001b[0m\u001b[0;34m\u001b[0m\u001b[0;34m\u001b[0m\u001b[0m\n\u001b[0m\u001b[1;32m      4\u001b[0m   \u001b[0;32mif\u001b[0m \u001b[0mnum\u001b[0m \u001b[0;34m==\u001b[0m \u001b[0;34m'123456789!!'\u001b[0m\u001b[0;34m:\u001b[0m\u001b[0;34m\u001b[0m\u001b[0;34m\u001b[0m\u001b[0m\n\u001b[1;32m      5\u001b[0m     \u001b[0mprint\u001b[0m\u001b[0;34m(\u001b[0m\u001b[0;34m\"login되었습니다.\\n\"\u001b[0m\u001b[0;34m)\u001b[0m\u001b[0;34m\u001b[0m\u001b[0;34m\u001b[0m\u001b[0m\n",
            "\u001b[0;31mValueError\u001b[0m: invalid literal for int() with base 10: '123456789!!'"
          ]
        }
      ]
    },
    {
      "cell_type": "code",
      "source": [
        "fac =int(input())\n",
        "int old_fac\n",
        "\n",
        "for i in range(1,i):\n",
        "  old_fac = fac*i\n",
        "  i++\n",
        "print(fac)"
      ],
      "metadata": {
        "colab": {
          "base_uri": "https://localhost:8080/",
          "height": 137
        },
        "id": "IHU6ppHLntIe",
        "outputId": "9d7c3026-e9d3-4882-b1eb-9d29e2edfbb2"
      },
      "execution_count": null,
      "outputs": [
        {
          "output_type": "error",
          "ename": "SyntaxError",
          "evalue": "ignored",
          "traceback": [
            "\u001b[0;36m  File \u001b[0;32m\"<ipython-input-40-6336dfa747cc>\"\u001b[0;36m, line \u001b[0;32m2\u001b[0m\n\u001b[0;31m    int old_fac\u001b[0m\n\u001b[0m        ^\u001b[0m\n\u001b[0;31mSyntaxError\u001b[0m\u001b[0;31m:\u001b[0m invalid syntax\n"
          ]
        }
      ]
    },
    {
      "cell_type": "code",
      "source": [
        "import random"
      ],
      "metadata": {
        "id": "mD5LHSB5sXFU"
      },
      "execution_count": null,
      "outputs": []
    },
    {
      "cell_type": "code",
      "source": [
        "random.shuffle(num_list)\n",
        "print(num_list)\n",
        "len(num_list)"
      ],
      "metadata": {
        "colab": {
          "base_uri": "https://localhost:8080/",
          "height": 211
        },
        "id": "1vWVl3k0sCe8",
        "outputId": "9efb48a7-afb5-4961-885e-dbcc6e40b085"
      },
      "execution_count": null,
      "outputs": [
        {
          "output_type": "error",
          "ename": "NameError",
          "evalue": "ignored",
          "traceback": [
            "\u001b[0;31m---------------------------------------------------------------------------\u001b[0m",
            "\u001b[0;31mNameError\u001b[0m                                 Traceback (most recent call last)",
            "\u001b[0;32m<ipython-input-41-a9af76c1403b>\u001b[0m in \u001b[0;36m<module>\u001b[0;34m\u001b[0m\n\u001b[0;32m----> 1\u001b[0;31m \u001b[0mrandom\u001b[0m\u001b[0;34m.\u001b[0m\u001b[0mshuffle\u001b[0m\u001b[0;34m(\u001b[0m\u001b[0mnum_list\u001b[0m\u001b[0;34m)\u001b[0m\u001b[0;34m\u001b[0m\u001b[0;34m\u001b[0m\u001b[0m\n\u001b[0m\u001b[1;32m      2\u001b[0m \u001b[0mprint\u001b[0m\u001b[0;34m(\u001b[0m\u001b[0mnum_list\u001b[0m\u001b[0;34m)\u001b[0m\u001b[0;34m\u001b[0m\u001b[0;34m\u001b[0m\u001b[0m\n\u001b[1;32m      3\u001b[0m \u001b[0mlen\u001b[0m\u001b[0;34m(\u001b[0m\u001b[0mnum_list\u001b[0m\u001b[0;34m)\u001b[0m\u001b[0;34m\u001b[0m\u001b[0;34m\u001b[0m\u001b[0m\n",
            "\u001b[0;31mNameError\u001b[0m: name 'random' is not defined"
          ]
        }
      ]
    },
    {
      "cell_type": "code",
      "source": [
        "import random\n",
        "\n",
        "A = []\n",
        "while True:\n",
        "  e = round(random.random(),2)\n",
        "  A.append(e)\n",
        "  if len(A) == 5:\n",
        "    break\n",
        "print(A)"
      ],
      "metadata": {
        "colab": {
          "base_uri": "https://localhost:8080/"
        },
        "id": "N6G9EFLwtK7b",
        "outputId": "d04ec0c8-08cb-4253-8915-02ebb0fb1220"
      },
      "execution_count": null,
      "outputs": [
        {
          "output_type": "stream",
          "name": "stdout",
          "text": [
            "[0.69, 0.51, 0.34, 0.6, 0.8]\n"
          ]
        }
      ]
    },
    {
      "cell_type": "code",
      "source": [
        "num  = 0\n",
        "while num <10:\n",
        "  e= random.randint(1,30)\n",
        "  num += 1\n",
        "  print(e)"
      ],
      "metadata": {
        "colab": {
          "base_uri": "https://localhost:8080/"
        },
        "id": "AM6RuVJ8t35z",
        "outputId": "99d4fcde-1e5d-49d4-e2bf-e81a6d59f1ec"
      },
      "execution_count": null,
      "outputs": [
        {
          "output_type": "stream",
          "name": "stdout",
          "text": [
            "16\n",
            "5\n",
            "2\n",
            "13\n",
            "14\n",
            "16\n",
            "9\n",
            "6\n",
            "19\n",
            "18\n"
          ]
        }
      ]
    },
    {
      "cell_type": "markdown",
      "source": [
        "# 약수찾기"
      ],
      "metadata": {
        "id": "o-QAXtr1j4pc"
      }
    },
    {
      "cell_type": "code",
      "source": [
        "num = int(input())\n",
        "f = []\n",
        "\n",
        "for i in range(1, num+1):\n",
        "    if num%i == 0:\n",
        "     f.append(i)\n",
        "\n",
        "print(f)"
      ],
      "metadata": {
        "colab": {
          "base_uri": "https://localhost:8080/"
        },
        "id": "lIL_KmmbgGk0",
        "outputId": "e79afc74-3287-4996-d113-710cbadb861f"
      },
      "execution_count": null,
      "outputs": [
        {
          "output_type": "stream",
          "name": "stdout",
          "text": [
            "12\n",
            "[1, 2, 3, 4, 6, 12]\n"
          ]
        }
      ]
    },
    {
      "cell_type": "markdown",
      "source": [
        "#최대공약수:"
      ],
      "metadata": {
        "id": "NoThHri3kN2L"
      }
    },
    {
      "cell_type": "code",
      "source": [
        "print(\"첫 번째 숫자 입력\")\n",
        "num1 = int(input())\n",
        "print(\"두 번째 숫자 입력\")\n",
        "num2 = int(input())\n",
        "\n",
        "f1 = []\n",
        "f2 = []\n",
        "c = []\n",
        "\n",
        "for i1 in range(1, num1+1):\n",
        "    if num1%i1 == 0:\n",
        "     f1.append(i1)\n",
        "\n",
        "for i2 in range(1, num2+1):\n",
        "    if num2%i2 == 0:\n",
        "     f2.append(i2)\n",
        "\n",
        "for i in f1:\n",
        "  if i in f2:\n",
        "    c.append(i)\n",
        "\n",
        "\n",
        "\n",
        "#print(f1)\n",
        "#print(f2)\n",
        "\n",
        "#c = []\n",
        "#print(c)\n",
        "GCM = c[-1]\n",
        "print(\"{}와 {}의 최대공약수는 {}입니다.\". format(num1, num2, GCM))"
      ],
      "metadata": {
        "colab": {
          "base_uri": "https://localhost:8080/"
        },
        "id": "tLJ0rnwwgHAk",
        "outputId": "5706a3d7-05d3-4837-e9e9-4a89d94d0b3a"
      },
      "execution_count": null,
      "outputs": [
        {
          "output_type": "stream",
          "name": "stdout",
          "text": [
            "첫 번째 숫자 입력\n",
            "24\n",
            "두 번째 숫자 입력\n",
            "36\n",
            "24와 36의 최대공약수는 12입니다.\n"
          ]
        }
      ]
    },
    {
      "cell_type": "code",
      "source": [
        "q = 24\n",
        "w = 36\n",
        "\n",
        "f_1 = []\n",
        "f_2 = []\n",
        "\n",
        "for i1 in range(1, q+1):\n",
        "    if q%i1 == 0:\n",
        "     f_1.append(i1)\n",
        "\n",
        "for i2 in range(1, w+1):\n",
        "    if w%i2 == 0:\n",
        "     f_2.append(i2)"
      ],
      "metadata": {
        "id": "Qe25UwNMgHaU"
      },
      "execution_count": null,
      "outputs": []
    },
    {
      "cell_type": "code",
      "source": [
        "c = []\n",
        "\n",
        "for i in f_1:\n",
        "  if i in f_2:\n",
        "    c.append(i)\n",
        "\n",
        "print(c)\n",
        "GCM = c[-1]\n",
        "print(\"{}와 {}의 최대공약수는 {}입니다.\". format(q, w, GCM))"
      ],
      "metadata": {
        "colab": {
          "base_uri": "https://localhost:8080/"
        },
        "id": "dWNOo5i1nZEy",
        "outputId": "4b2fcb79-f8cc-475f-9c99-e56a23fb73f8"
      },
      "execution_count": null,
      "outputs": [
        {
          "output_type": "stream",
          "name": "stdout",
          "text": [
            "[1, 2, 3, 4, 6, 12]\n",
            "24와 36의 최대공약수는 12입니다.\n"
          ]
        }
      ]
    },
    {
      "cell_type": "code",
      "source": [
        "#최소공배수\n",
        "k = q*w/c[-1]\n",
        "print(\"{}와 {}의 최소 공배수는 {}입니다.\". format(q,w,k))"
      ],
      "metadata": {
        "colab": {
          "base_uri": "https://localhost:8080/"
        },
        "id": "7P5Z0d8kgHp8",
        "outputId": "8e20bac6-213c-4fc9-a286-bc2d7d76bd95"
      },
      "execution_count": null,
      "outputs": [
        {
          "output_type": "stream",
          "name": "stdout",
          "text": [
            "24와 36의 최소 공배수는 72.0입니다.\n"
          ]
        }
      ]
    },
    {
      "cell_type": "code",
      "source": [
        "소인수 찾기"
      ],
      "metadata": {
        "id": "Fa2J1NDWqjFh"
      },
      "execution_count": null,
      "outputs": []
    },
    {
      "cell_type": "code",
      "source": [
        "s_f = []\n",
        "n= int(input())\n",
        "i=2\n",
        "for i in range(2, n):\n",
        "  while(n%i == 0):\n",
        "    s_f.append(i)\n",
        "    n = n/i\n",
        "print(s_f)"
      ],
      "metadata": {
        "colab": {
          "base_uri": "https://localhost:8080/"
        },
        "id": "ytwCXLVrpVVS",
        "outputId": "c75079e5-ca70-4ac2-ea98-ce1dadff61cf"
      },
      "execution_count": null,
      "outputs": [
        {
          "output_type": "stream",
          "name": "stdout",
          "text": [
            "12\n",
            "[2, 2, 3]\n"
          ]
        }
      ]
    },
    {
      "cell_type": "code",
      "source": [
        "소수 찾기"
      ],
      "metadata": {
        "id": "HTAMdCrGrYXD"
      },
      "execution_count": null,
      "outputs": []
    },
    {
      "cell_type": "code",
      "source": [
        "m =int(input())\n",
        "prime = True\n",
        "for i in range(2, m):\n",
        "  if m%i == 0:\n",
        "    prime =False\n",
        "\n",
        "if prime == True:\n",
        "  print(\"소수\\n\")\n",
        "else:\n",
        "  print(\"합성수\\n\")\n"
      ],
      "metadata": {
        "colab": {
          "base_uri": "https://localhost:8080/"
        },
        "id": "MNnGY35qq3UL",
        "outputId": "799232fe-3aa7-4f4b-ab78-91ad1f85a6fd"
      },
      "execution_count": null,
      "outputs": [
        {
          "output_type": "stream",
          "name": "stdout",
          "text": [
            "5\n",
            "소수\n",
            "\n"
          ]
        }
      ]
    }
  ]
}