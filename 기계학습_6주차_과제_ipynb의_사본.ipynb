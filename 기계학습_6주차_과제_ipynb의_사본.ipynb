{
  "nbformat": 4,
  "nbformat_minor": 0,
  "metadata": {
    "colab": {
      "provenance": [],
      "include_colab_link": true
    },
    "kernelspec": {
      "name": "python3",
      "display_name": "Python 3"
    },
    "language_info": {
      "name": "python"
    }
  },
  "cells": [
    {
      "cell_type": "markdown",
      "metadata": {
        "id": "view-in-github",
        "colab_type": "text"
      },
      "source": [
        "<a href=\"https://colab.research.google.com/github/SWHyeonseokLEE/AI_MON/blob/main/%EA%B8%B0%EA%B3%84%ED%95%99%EC%8A%B5_6%EC%A3%BC%EC%B0%A8_%EA%B3%BC%EC%A0%9C_ipynb%EC%9D%98_%EC%82%AC%EB%B3%B8.ipynb\" target=\"_parent\"><img src=\"https://colab.research.google.com/assets/colab-badge.svg\" alt=\"Open In Colab\"/></a>"
      ]
    },
    {
      "cell_type": "code",
      "execution_count": 2,
      "metadata": {
        "id": "bA1zTTNBz2Ws"
      },
      "outputs": [],
      "source": [
        "import tensorflow as tf\n",
        "import numpy as np\n",
        "import matplotlib.pyplot as plt"
      ]
    },
    {
      "cell_type": "markdown",
      "source": [
        "# 변수 저장"
      ],
      "metadata": {
        "id": "uEOdI_0H0Z5T"
      }
    },
    {
      "cell_type": "code",
      "source": [
        "a = 5\n",
        "b = 3\n",
        "c = tf.math.add(a,b)\n",
        "c"
      ],
      "metadata": {
        "colab": {
          "base_uri": "https://localhost:8080/"
        },
        "id": "MRH3hhhm0MxB",
        "outputId": "b752796f-b32d-4314-c31a-823b3cba544e"
      },
      "execution_count": 3,
      "outputs": [
        {
          "output_type": "execute_result",
          "data": {
            "text/plain": [
              "<tf.Tensor: shape=(), dtype=int32, numpy=8>"
            ]
          },
          "metadata": {},
          "execution_count": 3
        }
      ]
    },
    {
      "cell_type": "code",
      "source": [
        "c.numpy()"
      ],
      "metadata": {
        "colab": {
          "base_uri": "https://localhost:8080/"
        },
        "id": "9ayMEHYX0Tut",
        "outputId": "cd71b6d6-3938-4a3f-af52-3b218ab61419"
      },
      "execution_count": 4,
      "outputs": [
        {
          "output_type": "execute_result",
          "data": {
            "text/plain": [
              "8"
            ]
          },
          "metadata": {},
          "execution_count": 4
        }
      ]
    },
    {
      "cell_type": "markdown",
      "source": [
        "# Scala"
      ],
      "metadata": {
        "id": "lWZQYP7N4mm9"
      }
    },
    {
      "cell_type": "code",
      "source": [
        "c1 = tf.constant(1)\n",
        "c2 = tf.constant(2)\n",
        "\n",
        "print(c1, c2)"
      ],
      "metadata": {
        "colab": {
          "base_uri": "https://localhost:8080/"
        },
        "id": "bCGq-2sw0Vjo",
        "outputId": "9ad71fc3-83c5-4a7c-fe7e-8a9355833591"
      },
      "execution_count": 5,
      "outputs": [
        {
          "output_type": "stream",
          "name": "stdout",
          "text": [
            "tf.Tensor(1, shape=(), dtype=int32) tf.Tensor(2, shape=(), dtype=int32)\n"
          ]
        }
      ]
    },
    {
      "cell_type": "code",
      "source": [
        "f1 = tf.cast(c1, tf.float32)\n",
        "f2 = tf.cast(c2, tf.float32)\n",
        "\n",
        "print(f1, f2)"
      ],
      "metadata": {
        "colab": {
          "base_uri": "https://localhost:8080/"
        },
        "id": "mWmZJaWF5gu1",
        "outputId": "d7e9722b-cbdc-4fa8-dc01-b4af809f887e"
      },
      "execution_count": 6,
      "outputs": [
        {
          "output_type": "stream",
          "name": "stdout",
          "text": [
            "tf.Tensor(1.0, shape=(), dtype=float32) tf.Tensor(2.0, shape=(), dtype=float32)\n"
          ]
        }
      ]
    },
    {
      "cell_type": "code",
      "source": [
        "add = tf.math.add(c1, c2)\n",
        "add.numpy()"
      ],
      "metadata": {
        "colab": {
          "base_uri": "https://localhost:8080/"
        },
        "id": "rgu0wCKF6YoJ",
        "outputId": "e2635aff-17e6-41c0-edee-4d53e07be268"
      },
      "execution_count": 7,
      "outputs": [
        {
          "output_type": "execute_result",
          "data": {
            "text/plain": [
              "3"
            ]
          },
          "metadata": {},
          "execution_count": 7
        }
      ]
    },
    {
      "cell_type": "code",
      "source": [
        "sub = tf.math.subtract(c1, c2)\n",
        "sub.numpy()"
      ],
      "metadata": {
        "colab": {
          "base_uri": "https://localhost:8080/"
        },
        "id": "MBlL5Yo06klg",
        "outputId": "752c93f2-f64b-4387-dcc1-430d05efb83b"
      },
      "execution_count": 8,
      "outputs": [
        {
          "output_type": "execute_result",
          "data": {
            "text/plain": [
              "-1"
            ]
          },
          "metadata": {},
          "execution_count": 8
        }
      ]
    },
    {
      "cell_type": "code",
      "source": [
        "mul = tf.math.multiply(c1, c2)\n",
        "mul.numpy()"
      ],
      "metadata": {
        "colab": {
          "base_uri": "https://localhost:8080/"
        },
        "id": "JKgk5EQg7Xe3",
        "outputId": "894c4f7c-2e46-419b-cbb0-f7f047adc721"
      },
      "execution_count": 9,
      "outputs": [
        {
          "output_type": "execute_result",
          "data": {
            "text/plain": [
              "2"
            ]
          },
          "metadata": {},
          "execution_count": 9
        }
      ]
    },
    {
      "cell_type": "code",
      "source": [
        "div = tf.math.divide(c1, c2)\n",
        "div.numpy()"
      ],
      "metadata": {
        "colab": {
          "base_uri": "https://localhost:8080/"
        },
        "id": "O9VJDhkB7qac",
        "outputId": "7d8b17b3-bd41-48ff-9090-832ce5c2b812"
      },
      "execution_count": 10,
      "outputs": [
        {
          "output_type": "execute_result",
          "data": {
            "text/plain": [
              "0.5"
            ]
          },
          "metadata": {},
          "execution_count": 10
        }
      ]
    },
    {
      "cell_type": "code",
      "source": [
        "m = tf.math.mod(c1, c2)\n",
        "m.numpy()"
      ],
      "metadata": {
        "colab": {
          "base_uri": "https://localhost:8080/"
        },
        "id": "RpU9_OSg71tY",
        "outputId": "4157b869-ec3b-4299-f90c-c5802d6df992"
      },
      "execution_count": 11,
      "outputs": [
        {
          "output_type": "execute_result",
          "data": {
            "text/plain": [
              "1"
            ]
          },
          "metadata": {},
          "execution_count": 11
        }
      ]
    },
    {
      "cell_type": "code",
      "source": [
        "flo = tf.math.floordiv(c1, c2)\n",
        "flo.numpy()"
      ],
      "metadata": {
        "colab": {
          "base_uri": "https://localhost:8080/"
        },
        "id": "qZGguve98B4Y",
        "outputId": "72b6bd3b-6bba-45f8-e515-719dcd610b8b"
      },
      "execution_count": 12,
      "outputs": [
        {
          "output_type": "execute_result",
          "data": {
            "text/plain": [
              "0"
            ]
          },
          "metadata": {},
          "execution_count": 12
        }
      ]
    },
    {
      "cell_type": "markdown",
      "source": [
        "# Vector"
      ],
      "metadata": {
        "id": "nHCNmcn28OGW"
      }
    },
    {
      "cell_type": "code",
      "source": [
        "py_list = [10,20,30]\n",
        "ten_list = tf.constant(py_list)\n",
        "ten_list"
      ],
      "metadata": {
        "colab": {
          "base_uri": "https://localhost:8080/"
        },
        "id": "J2N5y2jy8K5C",
        "outputId": "494f6cd0-0afa-4b31-81e2-c891a2d29d0b"
      },
      "execution_count": 13,
      "outputs": [
        {
          "output_type": "execute_result",
          "data": {
            "text/plain": [
              "<tf.Tensor: shape=(3,), dtype=int32, numpy=array([10, 20, 30], dtype=int32)>"
            ]
          },
          "metadata": {},
          "execution_count": 13
        }
      ]
    },
    {
      "cell_type": "code",
      "source": [
        "ten_list = tf.constant([10, 20, 30])\n",
        "ten_list"
      ],
      "metadata": {
        "colab": {
          "base_uri": "https://localhost:8080/"
        },
        "id": "fri_uKJz89j_",
        "outputId": "a15c60b0-3343-4a25-c4ce-903eb2d29881"
      },
      "execution_count": 14,
      "outputs": [
        {
          "output_type": "execute_result",
          "data": {
            "text/plain": [
              "<tf.Tensor: shape=(3,), dtype=int32, numpy=array([10, 20, 30], dtype=int32)>"
            ]
          },
          "metadata": {},
          "execution_count": 14
        }
      ]
    },
    {
      "cell_type": "code",
      "source": [
        "num_arr = np.array([10, 10, 10])\n",
        "ten_arr = tf.constant(num_arr, dtype=tf.int32)\n",
        "ten_arr"
      ],
      "metadata": {
        "colab": {
          "base_uri": "https://localhost:8080/"
        },
        "id": "uH0ygTiz9JW6",
        "outputId": "88b9994d-4cd3-4872-c640-01ca07cc0089"
      },
      "execution_count": 15,
      "outputs": [
        {
          "output_type": "execute_result",
          "data": {
            "text/plain": [
              "<tf.Tensor: shape=(3,), dtype=int32, numpy=array([10, 10, 10], dtype=int32)>"
            ]
          },
          "metadata": {},
          "execution_count": 15
        }
      ]
    },
    {
      "cell_type": "code",
      "source": [
        "add1=tf.math.add(ten_list, ten_arr)"
      ],
      "metadata": {
        "id": "TCivFg6r9dIu"
      },
      "execution_count": 16,
      "outputs": []
    },
    {
      "cell_type": "code",
      "source": [
        "A = ten_list + ten_arr\n",
        "S = ten_list - ten_arr\n",
        "M = ten_list * ten_arr\n",
        "D = ten_list / ten_arr\n",
        "Mo = ten_list % ten_arr\n",
        "Fd = ten_list // ten_arr"
      ],
      "metadata": {
        "id": "bFcts5Ym9jeX"
      },
      "execution_count": 17,
      "outputs": []
    },
    {
      "cell_type": "code",
      "source": [
        "A.numpy()"
      ],
      "metadata": {
        "colab": {
          "base_uri": "https://localhost:8080/"
        },
        "id": "iKhkV7Wi91GG",
        "outputId": "88d1d1fb-3ed9-4186-d305-64ec6f323a28"
      },
      "execution_count": 18,
      "outputs": [
        {
          "output_type": "execute_result",
          "data": {
            "text/plain": [
              "array([20, 30, 40], dtype=int32)"
            ]
          },
          "metadata": {},
          "execution_count": 18
        }
      ]
    },
    {
      "cell_type": "code",
      "source": [
        "S.numpy()"
      ],
      "metadata": {
        "colab": {
          "base_uri": "https://localhost:8080/"
        },
        "id": "ITCw2X7m93tX",
        "outputId": "7833acb4-cf8c-4854-bad4-d9b835d0294c"
      },
      "execution_count": 19,
      "outputs": [
        {
          "output_type": "execute_result",
          "data": {
            "text/plain": [
              "array([ 0, 10, 20], dtype=int32)"
            ]
          },
          "metadata": {},
          "execution_count": 19
        }
      ]
    },
    {
      "cell_type": "code",
      "source": [
        "M.numpy()"
      ],
      "metadata": {
        "colab": {
          "base_uri": "https://localhost:8080/"
        },
        "id": "E09RHlfc94GI",
        "outputId": "a2934ca8-1303-405d-bfdb-a209de1c7494"
      },
      "execution_count": 20,
      "outputs": [
        {
          "output_type": "execute_result",
          "data": {
            "text/plain": [
              "array([100, 200, 300], dtype=int32)"
            ]
          },
          "metadata": {},
          "execution_count": 20
        }
      ]
    },
    {
      "cell_type": "code",
      "source": [
        "D.numpy()"
      ],
      "metadata": {
        "colab": {
          "base_uri": "https://localhost:8080/"
        },
        "id": "aVwQBk0w94lY",
        "outputId": "33c65624-5f97-44de-c2fb-bd8855c8d091"
      },
      "execution_count": 21,
      "outputs": [
        {
          "output_type": "execute_result",
          "data": {
            "text/plain": [
              "array([1., 2., 3.])"
            ]
          },
          "metadata": {},
          "execution_count": 21
        }
      ]
    },
    {
      "cell_type": "code",
      "source": [
        "Mo.numpy()"
      ],
      "metadata": {
        "colab": {
          "base_uri": "https://localhost:8080/"
        },
        "id": "LPYltc3x95iQ",
        "outputId": "1ef26db4-4083-4f64-b593-2585039efadb"
      },
      "execution_count": 22,
      "outputs": [
        {
          "output_type": "execute_result",
          "data": {
            "text/plain": [
              "array([0, 0, 0], dtype=int32)"
            ]
          },
          "metadata": {},
          "execution_count": 22
        }
      ]
    },
    {
      "cell_type": "code",
      "source": [
        "Fd.numpy()"
      ],
      "metadata": {
        "colab": {
          "base_uri": "https://localhost:8080/"
        },
        "id": "dXPxoGnZ97kx",
        "outputId": "e30354e3-99b4-4a55-b536-6a157b480a9d"
      },
      "execution_count": 23,
      "outputs": [
        {
          "output_type": "execute_result",
          "data": {
            "text/plain": [
              "array([1, 2, 3], dtype=int32)"
            ]
          },
          "metadata": {},
          "execution_count": 23
        }
      ]
    },
    {
      "cell_type": "markdown",
      "source": [
        "# 행렬 정의"
      ],
      "metadata": {
        "id": "kDopzMcp8Blk"
      }
    },
    {
      "cell_type": "code",
      "source": [
        "l_a = [1, 0]\n",
        "l_b = [-1, 2]\n",
        "l_c = [1, 0]"
      ],
      "metadata": {
        "id": "qecwXai--HvJ"
      },
      "execution_count": 24,
      "outputs": []
    },
    {
      "cell_type": "code",
      "source": [
        "l_a = tf.constant(l_a)\n",
        "l_a = tf.constant(l_b)\n",
        "l_a = tf.constant(l_c)"
      ],
      "metadata": {
        "id": "ODx1ojQOQF3P"
      },
      "execution_count": 25,
      "outputs": []
    },
    {
      "cell_type": "code",
      "source": [
        "A = tf.stack([l_a, l_b, l_c])\n",
        "A           "
      ],
      "metadata": {
        "colab": {
          "base_uri": "https://localhost:8080/"
        },
        "id": "hoL0t78IQhep",
        "outputId": "bd27e9a8-b827-479e-9c16-9ad3154867cb"
      },
      "execution_count": 26,
      "outputs": [
        {
          "output_type": "execute_result",
          "data": {
            "text/plain": [
              "<tf.Tensor: shape=(3, 2), dtype=int32, numpy=\n",
              "array([[ 1,  0],\n",
              "       [-1,  2],\n",
              "       [ 1,  0]], dtype=int32)>"
            ]
          },
          "metadata": {},
          "execution_count": 26
        }
      ]
    },
    {
      "cell_type": "code",
      "source": [
        "l_B = [[10, 20], [30, 40]]\n",
        "l_C = [[10, 20], [20, 40]]\n",
        "l_D = [[30, 10], [10, 10]]"
      ],
      "metadata": {
        "id": "bNFs9DcYQmCy"
      },
      "execution_count": 27,
      "outputs": []
    },
    {
      "cell_type": "code",
      "source": [
        "B = tf.constant(l_B)\n",
        "C = tf.constant(l_C)\n",
        "D = tf.constant(l_D)\n",
        "B, C, D"
      ],
      "metadata": {
        "colab": {
          "base_uri": "https://localhost:8080/"
        },
        "id": "j0uRc_CnQoZu",
        "outputId": "16c527bd-193f-40d8-d939-b0d2b2e4df0f"
      },
      "execution_count": 28,
      "outputs": [
        {
          "output_type": "execute_result",
          "data": {
            "text/plain": [
              "(<tf.Tensor: shape=(2, 2), dtype=int32, numpy=\n",
              " array([[10, 20],\n",
              "        [30, 40]], dtype=int32)>,\n",
              " <tf.Tensor: shape=(2, 2), dtype=int32, numpy=\n",
              " array([[10, 20],\n",
              "        [20, 40]], dtype=int32)>,\n",
              " <tf.Tensor: shape=(2, 2), dtype=int32, numpy=\n",
              " array([[30, 10],\n",
              "        [10, 10]], dtype=int32)>)"
            ]
          },
          "metadata": {},
          "execution_count": 28
        }
      ]
    },
    {
      "cell_type": "code",
      "source": [
        "m_BCD = tf.stack([B, C, D])\n",
        "m_BCD     "
      ],
      "metadata": {
        "colab": {
          "base_uri": "https://localhost:8080/"
        },
        "id": "bI1iqYJsQvHj",
        "outputId": "91055d50-8b73-45bc-de6a-c10a8a1029e7"
      },
      "execution_count": 29,
      "outputs": [
        {
          "output_type": "execute_result",
          "data": {
            "text/plain": [
              "<tf.Tensor: shape=(3, 2, 2), dtype=int32, numpy=\n",
              "array([[[10, 20],\n",
              "        [30, 40]],\n",
              "\n",
              "       [[10, 20],\n",
              "        [20, 40]],\n",
              "\n",
              "       [[30, 10],\n",
              "        [10, 10]]], dtype=int32)>"
            ]
          },
          "metadata": {},
          "execution_count": 29
        }
      ]
    },
    {
      "cell_type": "markdown",
      "source": [
        "# 고차원 텐서 정의"
      ],
      "metadata": {
        "id": "9R8YUwa5RKkG"
      }
    },
    {
      "cell_type": "code",
      "source": [
        "l_c1 = [[1, 2, 3, 4], [3, 4, 2, 5]]\n",
        "l_c2 = [[2, 3, 4, 5], [6, 5, 7 ,3]]\n",
        "l_c3 = [[1, 1, 1, 1], [8, 1, 0, 6]]"
      ],
      "metadata": {
        "id": "51a_6_tSRIBE"
      },
      "execution_count": 30,
      "outputs": []
    },
    {
      "cell_type": "code",
      "source": [
        "c1 = tf.constant(l_c1)\n",
        "c2 = tf.constant(l_c2)\n",
        "c3 = tf.constant(l_c3)\n",
        "\n",
        "c1, c2, c3"
      ],
      "metadata": {
        "colab": {
          "base_uri": "https://localhost:8080/"
        },
        "id": "mEqlCVa8R7UZ",
        "outputId": "0acd89ef-4cef-4068-e621-7386eefc7b91"
      },
      "execution_count": 31,
      "outputs": [
        {
          "output_type": "execute_result",
          "data": {
            "text/plain": [
              "(<tf.Tensor: shape=(2, 4), dtype=int32, numpy=\n",
              " array([[1, 2, 3, 4],\n",
              "        [3, 4, 2, 5]], dtype=int32)>,\n",
              " <tf.Tensor: shape=(2, 4), dtype=int32, numpy=\n",
              " array([[2, 3, 4, 5],\n",
              "        [6, 5, 7, 3]], dtype=int32)>,\n",
              " <tf.Tensor: shape=(2, 4), dtype=int32, numpy=\n",
              " array([[1, 1, 1, 1],\n",
              "        [8, 1, 0, 6]], dtype=int32)>)"
            ]
          },
          "metadata": {},
          "execution_count": 31
        }
      ]
    },
    {
      "cell_type": "code",
      "source": [
        "m_c1c2c3 = tf.stack([c1, c2, c3])\n",
        "m_c1c2c3"
      ],
      "metadata": {
        "colab": {
          "base_uri": "https://localhost:8080/"
        },
        "id": "ze81YEsuSAGR",
        "outputId": "7472d15b-a5b5-4d63-fdf7-62715bd244fe"
      },
      "execution_count": 32,
      "outputs": [
        {
          "output_type": "execute_result",
          "data": {
            "text/plain": [
              "<tf.Tensor: shape=(3, 2, 4), dtype=int32, numpy=\n",
              "array([[[1, 2, 3, 4],\n",
              "        [3, 4, 2, 5]],\n",
              "\n",
              "       [[2, 3, 4, 5],\n",
              "        [6, 5, 7, 3]],\n",
              "\n",
              "       [[1, 1, 1, 1],\n",
              "        [8, 1, 0, 6]]], dtype=int32)>"
            ]
          },
          "metadata": {},
          "execution_count": 32
        }
      ]
    },
    {
      "cell_type": "code",
      "source": [
        "l_c1 = [[1, 2, 3, 4], [3, 4, 2, 5], [2, 3, 4, 5]]\n",
        "l_c2 = [[6, 5, 7, 3], [1, 1, 1, 1], [8, 1, 0, 6]]"
      ],
      "metadata": {
        "id": "3q-lJglFSDJX"
      },
      "execution_count": 33,
      "outputs": []
    },
    {
      "cell_type": "code",
      "source": [
        "c1 = tf.constant(l_c1)\n",
        "c2 = tf.constant(l_c2)\n",
        "\n",
        "c1, c2"
      ],
      "metadata": {
        "colab": {
          "base_uri": "https://localhost:8080/"
        },
        "id": "fYXLgkAhSN0n",
        "outputId": "a8ab3197-66b7-4c0f-fc2d-454a5ada28e0"
      },
      "execution_count": 34,
      "outputs": [
        {
          "output_type": "execute_result",
          "data": {
            "text/plain": [
              "(<tf.Tensor: shape=(3, 4), dtype=int32, numpy=\n",
              " array([[1, 2, 3, 4],\n",
              "        [3, 4, 2, 5],\n",
              "        [2, 3, 4, 5]], dtype=int32)>,\n",
              " <tf.Tensor: shape=(3, 4), dtype=int32, numpy=\n",
              " array([[6, 5, 7, 3],\n",
              "        [1, 1, 1, 1],\n",
              "        [8, 1, 0, 6]], dtype=int32)>)"
            ]
          },
          "metadata": {},
          "execution_count": 34
        }
      ]
    },
    {
      "cell_type": "code",
      "source": [
        "m_c1c2 = tf.stack([c1, c2])\n",
        "\n",
        "m_c1c2"
      ],
      "metadata": {
        "colab": {
          "base_uri": "https://localhost:8080/"
        },
        "id": "vOe4d7raSRAd",
        "outputId": "77740d3c-873b-478c-a647-1e3598ca0903"
      },
      "execution_count": 35,
      "outputs": [
        {
          "output_type": "execute_result",
          "data": {
            "text/plain": [
              "<tf.Tensor: shape=(2, 3, 4), dtype=int32, numpy=\n",
              "array([[[1, 2, 3, 4],\n",
              "        [3, 4, 2, 5],\n",
              "        [2, 3, 4, 5]],\n",
              "\n",
              "       [[6, 5, 7, 3],\n",
              "        [1, 1, 1, 1],\n",
              "        [8, 1, 0, 6]]], dtype=int32)>"
            ]
          },
          "metadata": {},
          "execution_count": 35
        }
      ]
    },
    {
      "cell_type": "markdown",
      "source": [
        "# Indexing"
      ],
      "metadata": {
        "id": "Nj2taWbdSbqd"
      }
    },
    {
      "cell_type": "code",
      "source": [
        "x = range(1, 10)\n",
        "x= list(x)\n",
        "x1 = tf.constant(x)\n",
        "\n",
        "x1"
      ],
      "metadata": {
        "colab": {
          "base_uri": "https://localhost:8080/"
        },
        "id": "TQAhEhzGSbh-",
        "outputId": "26a4ea80-a34a-4cf4-8146-17a20c0dc48c"
      },
      "execution_count": 36,
      "outputs": [
        {
          "output_type": "execute_result",
          "data": {
            "text/plain": [
              "<tf.Tensor: shape=(9,), dtype=int32, numpy=array([1, 2, 3, 4, 5, 6, 7, 8, 9], dtype=int32)>"
            ]
          },
          "metadata": {},
          "execution_count": 36
        }
      ]
    },
    {
      "cell_type": "code",
      "source": [
        "x1[2 : 4]"
      ],
      "metadata": {
        "colab": {
          "base_uri": "https://localhost:8080/"
        },
        "id": "SkbppW3eSk-P",
        "outputId": "b844d841-31dd-40a4-ea74-31c7fc020818"
      },
      "execution_count": 37,
      "outputs": [
        {
          "output_type": "execute_result",
          "data": {
            "text/plain": [
              "<tf.Tensor: shape=(2,), dtype=int32, numpy=array([3, 4], dtype=int32)>"
            ]
          },
          "metadata": {},
          "execution_count": 37
        }
      ]
    },
    {
      "cell_type": "code",
      "source": [
        "x2 = tf.reshape(x1, [3, 3])  ## [3,3] = [3,-1]\n",
        "x2            "
      ],
      "metadata": {
        "colab": {
          "base_uri": "https://localhost:8080/"
        },
        "id": "l4uGUDLYSm0b",
        "outputId": "e1bc4161-c046-4797-a8b0-c959a3c81485"
      },
      "execution_count": 38,
      "outputs": [
        {
          "output_type": "execute_result",
          "data": {
            "text/plain": [
              "<tf.Tensor: shape=(3, 3), dtype=int32, numpy=\n",
              "array([[1, 2, 3],\n",
              "       [4, 5, 6],\n",
              "       [7, 8, 9]], dtype=int32)>"
            ]
          },
          "metadata": {},
          "execution_count": 38
        }
      ]
    },
    {
      "cell_type": "code",
      "source": [
        "x2[ : 1]"
      ],
      "metadata": {
        "colab": {
          "base_uri": "https://localhost:8080/"
        },
        "id": "OWYXLNN8Sqyt",
        "outputId": "354e3f36-7088-440b-df15-44b5197bfaa0"
      },
      "execution_count": 39,
      "outputs": [
        {
          "output_type": "execute_result",
          "data": {
            "text/plain": [
              "<tf.Tensor: shape=(1, 3), dtype=int32, numpy=array([[1, 2, 3]], dtype=int32)>"
            ]
          },
          "metadata": {},
          "execution_count": 39
        }
      ]
    },
    {
      "cell_type": "code",
      "source": [
        "x2[ : 2]"
      ],
      "metadata": {
        "colab": {
          "base_uri": "https://localhost:8080/"
        },
        "id": "QVPN5l6MStFh",
        "outputId": "cb670dfc-0dae-4326-aaf8-44809f0d8149"
      },
      "execution_count": 40,
      "outputs": [
        {
          "output_type": "execute_result",
          "data": {
            "text/plain": [
              "<tf.Tensor: shape=(2, 3), dtype=int32, numpy=\n",
              "array([[1, 2, 3],\n",
              "       [4, 5, 6]], dtype=int32)>"
            ]
          },
          "metadata": {},
          "execution_count": 40
        }
      ]
    },
    {
      "cell_type": "code",
      "source": [
        "x2[:,2 : 3]"
      ],
      "metadata": {
        "colab": {
          "base_uri": "https://localhost:8080/"
        },
        "id": "sWOce11RSyhP",
        "outputId": "df0cb6d2-537a-43ac-f7e6-ad5c158cd8d1"
      },
      "execution_count": 41,
      "outputs": [
        {
          "output_type": "execute_result",
          "data": {
            "text/plain": [
              "<tf.Tensor: shape=(3, 1), dtype=int32, numpy=\n",
              "array([[3],\n",
              "       [6],\n",
              "       [9]], dtype=int32)>"
            ]
          },
          "metadata": {},
          "execution_count": 41
        }
      ]
    },
    {
      "cell_type": "code",
      "source": [
        "t7 = tf.constant(range(0, 24))\n",
        "t7\n"
      ],
      "metadata": {
        "colab": {
          "base_uri": "https://localhost:8080/"
        },
        "id": "0cxsqQCSS00B",
        "outputId": "20fff699-c958-483f-f2bd-aa24522842bd"
      },
      "execution_count": 42,
      "outputs": [
        {
          "output_type": "execute_result",
          "data": {
            "text/plain": [
              "<tf.Tensor: shape=(24,), dtype=int32, numpy=\n",
              "array([ 0,  1,  2,  3,  4,  5,  6,  7,  8,  9, 10, 11, 12, 13, 14, 15, 16,\n",
              "       17, 18, 19, 20, 21, 22, 23], dtype=int32)>"
            ]
          },
          "metadata": {},
          "execution_count": 42
        }
      ]
    },
    {
      "cell_type": "code",
      "source": [
        "r_t7 = tf.reshape(t7, [3, 8])\n",
        "r_t7"
      ],
      "metadata": {
        "colab": {
          "base_uri": "https://localhost:8080/"
        },
        "id": "enCRLrchS6XF",
        "outputId": "fa8cfecd-ea3c-492e-b683-782cd2cfc6de"
      },
      "execution_count": 43,
      "outputs": [
        {
          "output_type": "execute_result",
          "data": {
            "text/plain": [
              "<tf.Tensor: shape=(3, 8), dtype=int32, numpy=\n",
              "array([[ 0,  1,  2,  3,  4,  5,  6,  7],\n",
              "       [ 8,  9, 10, 11, 12, 13, 14, 15],\n",
              "       [16, 17, 18, 19, 20, 21, 22, 23]], dtype=int32)>"
            ]
          },
          "metadata": {},
          "execution_count": 43
        }
      ]
    },
    {
      "cell_type": "code",
      "source": [
        "r2_t7 = tf.reshape(t7, [-1, 4])\n",
        "r2_t7"
      ],
      "metadata": {
        "colab": {
          "base_uri": "https://localhost:8080/"
        },
        "id": "X7z-RJtPS9Uc",
        "outputId": "16b23633-4871-4329-b5d6-90031bb9e870"
      },
      "execution_count": 44,
      "outputs": [
        {
          "output_type": "execute_result",
          "data": {
            "text/plain": [
              "<tf.Tensor: shape=(6, 4), dtype=int32, numpy=\n",
              "array([[ 0,  1,  2,  3],\n",
              "       [ 4,  5,  6,  7],\n",
              "       [ 8,  9, 10, 11],\n",
              "       [12, 13, 14, 15],\n",
              "       [16, 17, 18, 19],\n",
              "       [20, 21, 22, 23]], dtype=int32)>"
            ]
          },
          "metadata": {},
          "execution_count": 44
        }
      ]
    },
    {
      "cell_type": "code",
      "source": [
        "r3_t7 = tf.reshape(r2_t7, [ -1])\n",
        "r3_t7\n"
      ],
      "metadata": {
        "colab": {
          "base_uri": "https://localhost:8080/"
        },
        "id": "4cT9qNOWTAhB",
        "outputId": "f05db67f-c99b-4a14-b483-7322e7c766a7"
      },
      "execution_count": 45,
      "outputs": [
        {
          "output_type": "execute_result",
          "data": {
            "text/plain": [
              "<tf.Tensor: shape=(24,), dtype=int32, numpy=\n",
              "array([ 0,  1,  2,  3,  4,  5,  6,  7,  8,  9, 10, 11, 12, 13, 14, 15, 16,\n",
              "       17, 18, 19, 20, 21, 22, 23], dtype=int32)>"
            ]
          },
          "metadata": {},
          "execution_count": 45
        }
      ]
    },
    {
      "cell_type": "code",
      "source": [
        "r4_t7 = tf.reshape(r2_t7, [-1, 3, 4])\n",
        "r4_t7"
      ],
      "metadata": {
        "colab": {
          "base_uri": "https://localhost:8080/"
        },
        "id": "kZdoKaJ5TBmn",
        "outputId": "d9642918-4e8e-4eb2-dbb0-8ddec0b48165"
      },
      "execution_count": 46,
      "outputs": [
        {
          "output_type": "execute_result",
          "data": {
            "text/plain": [
              "<tf.Tensor: shape=(2, 3, 4), dtype=int32, numpy=\n",
              "array([[[ 0,  1,  2,  3],\n",
              "        [ 4,  5,  6,  7],\n",
              "        [ 8,  9, 10, 11]],\n",
              "\n",
              "       [[12, 13, 14, 15],\n",
              "        [16, 17, 18, 19],\n",
              "        [20, 21, 22, 23]]], dtype=int32)>"
            ]
          },
          "metadata": {},
          "execution_count": 46
        }
      ]
    },
    {
      "cell_type": "code",
      "source": [
        "r5_t7 = tf.reshape(r2_t7, [-1, 2, 4])\n",
        "r5_t7"
      ],
      "metadata": {
        "colab": {
          "base_uri": "https://localhost:8080/"
        },
        "id": "KGBQAufJTGfd",
        "outputId": "8b0f9c4b-a5bb-4dd7-8b1d-fe4e3c6f565e"
      },
      "execution_count": 47,
      "outputs": [
        {
          "output_type": "execute_result",
          "data": {
            "text/plain": [
              "<tf.Tensor: shape=(3, 2, 4), dtype=int32, numpy=\n",
              "array([[[ 0,  1,  2,  3],\n",
              "        [ 4,  5,  6,  7]],\n",
              "\n",
              "       [[ 8,  9, 10, 11],\n",
              "        [12, 13, 14, 15]],\n",
              "\n",
              "       [[16, 17, 18, 19],\n",
              "        [20, 21, 22, 23]]], dtype=int32)>"
            ]
          },
          "metadata": {},
          "execution_count": 47
        }
      ]
    },
    {
      "cell_type": "code",
      "source": [
        "r6_t7 = tf.reshape(r2_t7, [-1, 2, 2, 2])\n",
        "r6_t7"
      ],
      "metadata": {
        "colab": {
          "base_uri": "https://localhost:8080/"
        },
        "id": "pvhFJlwMTKTq",
        "outputId": "11613116-c2ba-44f4-f308-67eec4551491"
      },
      "execution_count": 48,
      "outputs": [
        {
          "output_type": "execute_result",
          "data": {
            "text/plain": [
              "<tf.Tensor: shape=(3, 2, 2, 2), dtype=int32, numpy=\n",
              "array([[[[ 0,  1],\n",
              "         [ 2,  3]],\n",
              "\n",
              "        [[ 4,  5],\n",
              "         [ 6,  7]]],\n",
              "\n",
              "\n",
              "       [[[ 8,  9],\n",
              "         [10, 11]],\n",
              "\n",
              "        [[12, 13],\n",
              "         [14, 15]]],\n",
              "\n",
              "\n",
              "       [[[16, 17],\n",
              "         [18, 19]],\n",
              "\n",
              "        [[20, 21],\n",
              "         [22, 23]]]], dtype=int32)>"
            ]
          },
          "metadata": {},
          "execution_count": 48
        }
      ]
    },
    {
      "cell_type": "markdown",
      "source": [
        "# 자동미분"
      ],
      "metadata": {
        "id": "Jh7jTHmhTQLn"
      }
    },
    {
      "cell_type": "code",
      "source": [
        "x = tf.Variable(2.0)                      #좌표\n",
        "\n",
        "with tf.GradientTape() as tape:\n",
        "    y = x**2                              #y = x^2\n",
        "dy_dx = tape.gradient(y,x)                # 미분 \n",
        "dy_dx.numpy() "
      ],
      "metadata": {
        "colab": {
          "base_uri": "https://localhost:8080/"
        },
        "id": "jIa4-OBzTTWk",
        "outputId": "0b29d6ae-55f2-4179-bbcc-eaed63934e7f"
      },
      "execution_count": 49,
      "outputs": [
        {
          "output_type": "execute_result",
          "data": {
            "text/plain": [
              "4.0"
            ]
          },
          "metadata": {},
          "execution_count": 49
        }
      ]
    },
    {
      "cell_type": "markdown",
      "source": [
        "# Dataset"
      ],
      "metadata": {
        "id": "v_ANAI2xTmHr"
      }
    },
    {
      "cell_type": "code",
      "source": [
        "g = tf.random.Generator.from_seed(2020)\n",
        "x= g.normal(shape=(10, ))\n",
        "y = 3*x - 2"
      ],
      "metadata": {
        "id": "HI4pWhbbTgxX"
      },
      "execution_count": 50,
      "outputs": []
    },
    {
      "cell_type": "code",
      "source": [
        "x.numpy()"
      ],
      "metadata": {
        "colab": {
          "base_uri": "https://localhost:8080/"
        },
        "id": "vbxb6CeBTuH1",
        "outputId": "897cc111-adf8-4a26-89cc-36b38fe3f044"
      },
      "execution_count": 51,
      "outputs": [
        {
          "output_type": "execute_result",
          "data": {
            "text/plain": [
              "array([-0.20943771,  1.2746525 ,  1.213214  , -0.17576952,  1.876984  ,\n",
              "        0.16379918,  1.082245  ,  0.6199966 , -0.44402212,  1.3048344 ],\n",
              "      dtype=float32)"
            ]
          },
          "metadata": {},
          "execution_count": 51
        }
      ]
    },
    {
      "cell_type": "code",
      "source": [
        "y.numpy()"
      ],
      "metadata": {
        "colab": {
          "base_uri": "https://localhost:8080/"
        },
        "id": "bsuwoW6UTv2F",
        "outputId": "429c1e52-d2fd-4c18-9508-5cb955861d3b"
      },
      "execution_count": 52,
      "outputs": [
        {
          "output_type": "execute_result",
          "data": {
            "text/plain": [
              "array([-2.628313  ,  1.8239574 ,  1.6396422 , -2.5273085 ,  3.630952  ,\n",
              "       -1.5086024 ,  1.2467351 , -0.14001012, -3.3320663 ,  1.9145031 ],\n",
              "      dtype=float32)"
            ]
          },
          "metadata": {},
          "execution_count": 52
        }
      ]
    },
    {
      "cell_type": "code",
      "source": [
        "m2 = tf.constant([[1., 1.]])"
      ],
      "metadata": {
        "id": "HJJt_AhTTzUA"
      },
      "execution_count": 53,
      "outputs": []
    },
    {
      "cell_type": "code",
      "source": [
        "def cal_mse(x, y, a, b):\n",
        "    y_pred = a*x + b\n",
        "    squared_error = (y_pred - y) **2\n",
        "    mean_squared_error = tf.reduce_mean(squared_error)\n",
        "\n",
        "    return mean_squared_error"
      ],
      "metadata": {
        "id": "OeiLtTrkT3ys"
      },
      "execution_count": 54,
      "outputs": []
    },
    {
      "cell_type": "code",
      "source": [
        "a = tf.Variable(0.0)\n",
        "b = tf.Variable(0.0)\n",
        "\n",
        "EPOCHS = 300\n",
        "\n",
        "for epoch in range(1, EPOCHS+1):\n",
        "    with tf.GradientTape() as tape:\n",
        "        mse = cal_mse(x, y, a, b)\n",
        "    if mse < 0.00001:                                                 # 오차한계\n",
        "        break\n",
        "    grade = tape.gradient(mse, {'a' : a, 'b' : b})\n",
        "    d_a, d_b = grade['a'], grade['b']\n",
        "    a.assign_sub(d_a * 0.05)                        # a = a - d_a * 0.05(학습률)\n",
        "    b.assign_sub(d_b * 0.05)                        # b = b - d_b * 0.05(학습률)\n",
        "\n",
        "    if epoch % 20 == 0:\n",
        "        print(\"EPOCH %d - MSE : %.4f - a: %.2f -b : %.2f\"%(epoch, mse, a, b))"
      ],
      "metadata": {
        "colab": {
          "base_uri": "https://localhost:8080/"
        },
        "id": "q4wHs6zJT75y",
        "outputId": "4f3f2031-6574-4e93-d217-d75de912c54e"
      },
      "execution_count": 55,
      "outputs": [
        {
          "output_type": "stream",
          "name": "stdout",
          "text": [
            "EPOCH 20 - MSE : 1.1415 - a: 1.74 -b : -0.75\n",
            "EPOCH 40 - MSE : 0.2881 - a: 2.37 -b : -1.37\n",
            "EPOCH 60 - MSE : 0.0728 - a: 2.69 -b : -1.68\n",
            "EPOCH 80 - MSE : 0.0184 - a: 2.84 -b : -1.84\n",
            "EPOCH 100 - MSE : 0.0046 - a: 2.92 -b : -1.92\n",
            "EPOCH 120 - MSE : 0.0012 - a: 2.96 -b : -1.96\n",
            "EPOCH 140 - MSE : 0.0003 - a: 2.98 -b : -1.98\n",
            "EPOCH 160 - MSE : 0.0001 - a: 2.99 -b : -1.99\n",
            "EPOCH 180 - MSE : 0.0000 - a: 2.99 -b : -1.99\n"
          ]
        }
      ]
    },
    {
      "cell_type": "code",
      "source": [
        "y_pred = 3 * x -2\n",
        "plt.scatter(x, y)\n",
        "plt.plot(x,y_pred, color = 'r')\n",
        "plt.show()"
      ],
      "metadata": {
        "colab": {
          "base_uri": "https://localhost:8080/",
          "height": 430
        },
        "id": "cjCo5LrRUQAd",
        "outputId": "f929932a-a134-4c91-e4ca-d5b05ee4b580"
      },
      "execution_count": 56,
      "outputs": [
        {
          "output_type": "display_data",
          "data": {
            "text/plain": [
              "<Figure size 640x480 with 1 Axes>"
            ],
            "image/png": "[encoded data removed]"
          },
          "metadata": {}
        }
      ]
    },
    {
      "cell_type": "code",
      "source": [
        "g = tf.random.Generator.from_seed(2020)\n",
        "x1 = g.normal(shape=(10,))\n",
        "noise = np.random.normal(0.1, size = (10,))\n",
        "y_1 = 3 * x - 2 + noise"
      ],
      "metadata": {
        "id": "acTwjRpFUTeF"
      },
      "execution_count": 57,
      "outputs": []
    },
    {
      "cell_type": "code",
      "source": [
        "a = tf.Variable(0.0)\n",
        "b = tf.Variable(0.0)\n",
        "\n",
        "EPOCHS = 1000\n",
        "\n",
        "for epoch in range(1, EPOCHS+1):\n",
        "    with tf.GradientTape() as tape:\n",
        "        mse = cal_mse(x1,y_1,a,b)\n",
        "    if mse < 0.000001:                                                # 오차한계\n",
        "        break\n",
        "    grade = tape.gradient(mse, {'a':a, 'b':b})\n",
        "    d_a, d_b = grade['a'], grade['b']\n",
        "    a.assign_sub(d_a * 0.05)                        # a = a - d_a * 0.05(학습률)\n",
        "    b.assign_sub(d_b * 0.05)                        # b = b - d_b * 0.05(학습률)\n",
        "\n",
        "    if epoch % 10 ==0:\n",
        "        print(\"EPOCH %d - MSE : %.4f - a: %.2f -b : %.2f\"%(epoch, mse, a, b))"
      ],
      "metadata": {
        "colab": {
          "base_uri": "https://localhost:8080/"
        },
        "id": "iZIHJRn0UfBD",
        "outputId": "c98992ee-be05-4989-8ed3-2797ded61f11"
      },
      "execution_count": 58,
      "outputs": [
        {
          "output_type": "stream",
          "name": "stdout",
          "text": [
            "EPOCH 10 - MSE : 2.2086 - a: 1.11 -b : -0.13\n",
            "EPOCH 20 - MSE : 1.3415 - a: 1.63 -b : -0.50\n",
            "EPOCH 30 - MSE : 0.9254 - a: 1.95 -b : -0.80\n",
            "EPOCH 40 - MSE : 0.7167 - a: 2.18 -b : -1.02\n",
            "EPOCH 50 - MSE : 0.6119 - a: 2.33 -b : -1.18\n",
            "EPOCH 60 - MSE : 0.5592 - a: 2.44 -b : -1.29\n",
            "EPOCH 70 - MSE : 0.5327 - a: 2.52 -b : -1.37\n",
            "EPOCH 80 - MSE : 0.5194 - a: 2.58 -b : -1.43\n",
            "EPOCH 90 - MSE : 0.5127 - a: 2.62 -b : -1.47\n",
            "EPOCH 100 - MSE : 0.5093 - a: 2.64 -b : -1.50\n",
            "EPOCH 110 - MSE : 0.5076 - a: 2.66 -b : -1.52\n",
            "EPOCH 120 - MSE : 0.5068 - a: 2.68 -b : -1.53\n",
            "EPOCH 130 - MSE : 0.5063 - a: 2.69 -b : -1.54\n",
            "EPOCH 140 - MSE : 0.5061 - a: 2.70 -b : -1.55\n",
            "EPOCH 150 - MSE : 0.5060 - a: 2.70 -b : -1.55\n",
            "EPOCH 160 - MSE : 0.5060 - a: 2.70 -b : -1.56\n",
            "EPOCH 170 - MSE : 0.5059 - a: 2.71 -b : -1.56\n",
            "EPOCH 180 - MSE : 0.5059 - a: 2.71 -b : -1.56\n",
            "EPOCH 190 - MSE : 0.5059 - a: 2.71 -b : -1.56\n",
            "EPOCH 200 - MSE : 0.5059 - a: 2.71 -b : -1.56\n",
            "EPOCH 210 - MSE : 0.5059 - a: 2.71 -b : -1.56\n",
            "EPOCH 220 - MSE : 0.5059 - a: 2.71 -b : -1.56\n",
            "EPOCH 230 - MSE : 0.5059 - a: 2.71 -b : -1.57\n",
            "EPOCH 240 - MSE : 0.5059 - a: 2.71 -b : -1.57\n",
            "EPOCH 250 - MSE : 0.5059 - a: 2.71 -b : -1.57\n",
            "EPOCH 260 - MSE : 0.5059 - a: 2.71 -b : -1.57\n",
            "EPOCH 270 - MSE : 0.5059 - a: 2.71 -b : -1.57\n",
            "EPOCH 280 - MSE : 0.5059 - a: 2.71 -b : -1.57\n",
            "EPOCH 290 - MSE : 0.5059 - a: 2.71 -b : -1.57\n",
            "EPOCH 300 - MSE : 0.5059 - a: 2.71 -b : -1.57\n",
            "EPOCH 310 - MSE : 0.5059 - a: 2.71 -b : -1.57\n",
            "EPOCH 320 - MSE : 0.5059 - a: 2.71 -b : -1.57\n",
            "EPOCH 330 - MSE : 0.5059 - a: 2.71 -b : -1.57\n",
            "EPOCH 340 - MSE : 0.5059 - a: 2.71 -b : -1.57\n",
            "EPOCH 350 - MSE : 0.5059 - a: 2.71 -b : -1.57\n",
            "EPOCH 360 - MSE : 0.5059 - a: 2.71 -b : -1.57\n",
            "EPOCH 370 - MSE : 0.5059 - a: 2.71 -b : -1.57\n",
            "EPOCH 380 - MSE : 0.5059 - a: 2.71 -b : -1.57\n",
            "EPOCH 390 - MSE : 0.5059 - a: 2.71 -b : -1.57\n",
            "EPOCH 400 - MSE : 0.5059 - a: 2.71 -b : -1.57\n",
            "EPOCH 410 - MSE : 0.5059 - a: 2.71 -b : -1.57\n",
            "EPOCH 420 - MSE : 0.5059 - a: 2.71 -b : -1.57\n",
            "EPOCH 430 - MSE : 0.5059 - a: 2.71 -b : -1.57\n",
            "EPOCH 440 - MSE : 0.5059 - a: 2.71 -b : -1.57\n",
            "EPOCH 450 - MSE : 0.5059 - a: 2.71 -b : -1.57\n",
            "EPOCH 460 - MSE : 0.5059 - a: 2.71 -b : -1.57\n",
            "EPOCH 470 - MSE : 0.5059 - a: 2.71 -b : -1.57\n",
            "EPOCH 480 - MSE : 0.5059 - a: 2.71 -b : -1.57\n",
            "EPOCH 490 - MSE : 0.5059 - a: 2.71 -b : -1.57\n",
            "EPOCH 500 - MSE : 0.5059 - a: 2.71 -b : -1.57\n",
            "EPOCH 510 - MSE : 0.5059 - a: 2.71 -b : -1.57\n",
            "EPOCH 520 - MSE : 0.5059 - a: 2.71 -b : -1.57\n",
            "EPOCH 530 - MSE : 0.5059 - a: 2.71 -b : -1.57\n",
            "EPOCH 540 - MSE : 0.5059 - a: 2.71 -b : -1.57\n",
            "EPOCH 550 - MSE : 0.5059 - a: 2.71 -b : -1.57\n",
            "EPOCH 560 - MSE : 0.5059 - a: 2.71 -b : -1.57\n",
            "EPOCH 570 - MSE : 0.5059 - a: 2.71 -b : -1.57\n",
            "EPOCH 580 - MSE : 0.5059 - a: 2.71 -b : -1.57\n",
            "EPOCH 590 - MSE : 0.5059 - a: 2.71 -b : -1.57\n",
            "EPOCH 600 - MSE : 0.5059 - a: 2.71 -b : -1.57\n",
            "EPOCH 610 - MSE : 0.5059 - a: 2.71 -b : -1.57\n",
            "EPOCH 620 - MSE : 0.5059 - a: 2.71 -b : -1.57\n",
            "EPOCH 630 - MSE : 0.5059 - a: 2.71 -b : -1.57\n",
            "EPOCH 640 - MSE : 0.5059 - a: 2.71 -b : -1.57\n",
            "EPOCH 650 - MSE : 0.5059 - a: 2.71 -b : -1.57\n",
            "EPOCH 660 - MSE : 0.5059 - a: 2.71 -b : -1.57\n",
            "EPOCH 670 - MSE : 0.5059 - a: 2.71 -b : -1.57\n",
            "EPOCH 680 - MSE : 0.5059 - a: 2.71 -b : -1.57\n",
            "EPOCH 690 - MSE : 0.5059 - a: 2.71 -b : -1.57\n",
            "EPOCH 700 - MSE : 0.5059 - a: 2.71 -b : -1.57\n",
            "EPOCH 710 - MSE : 0.5059 - a: 2.71 -b : -1.57\n",
            "EPOCH 720 - MSE : 0.5059 - a: 2.71 -b : -1.57\n",
            "EPOCH 730 - MSE : 0.5059 - a: 2.71 -b : -1.57\n",
            "EPOCH 740 - MSE : 0.5059 - a: 2.71 -b : -1.57\n",
            "EPOCH 750 - MSE : 0.5059 - a: 2.71 -b : -1.57\n",
            "EPOCH 760 - MSE : 0.5059 - a: 2.71 -b : -1.57\n",
            "EPOCH 770 - MSE : 0.5059 - a: 2.71 -b : -1.57\n",
            "EPOCH 780 - MSE : 0.5059 - a: 2.71 -b : -1.57\n",
            "EPOCH 790 - MSE : 0.5059 - a: 2.71 -b : -1.57\n",
            "EPOCH 800 - MSE : 0.5059 - a: 2.71 -b : -1.57\n",
            "EPOCH 810 - MSE : 0.5059 - a: 2.71 -b : -1.57\n",
            "EPOCH 820 - MSE : 0.5059 - a: 2.71 -b : -1.57\n",
            "EPOCH 830 - MSE : 0.5059 - a: 2.71 -b : -1.57\n",
            "EPOCH 840 - MSE : 0.5059 - a: 2.71 -b : -1.57\n",
            "EPOCH 850 - MSE : 0.5059 - a: 2.71 -b : -1.57\n",
            "EPOCH 860 - MSE : 0.5059 - a: 2.71 -b : -1.57\n",
            "EPOCH 870 - MSE : 0.5059 - a: 2.71 -b : -1.57\n",
            "EPOCH 880 - MSE : 0.5059 - a: 2.71 -b : -1.57\n",
            "EPOCH 890 - MSE : 0.5059 - a: 2.71 -b : -1.57\n",
            "EPOCH 900 - MSE : 0.5059 - a: 2.71 -b : -1.57\n",
            "EPOCH 910 - MSE : 0.5059 - a: 2.71 -b : -1.57\n",
            "EPOCH 920 - MSE : 0.5059 - a: 2.71 -b : -1.57\n",
            "EPOCH 930 - MSE : 0.5059 - a: 2.71 -b : -1.57\n",
            "EPOCH 940 - MSE : 0.5059 - a: 2.71 -b : -1.57\n",
            "EPOCH 950 - MSE : 0.5059 - a: 2.71 -b : -1.57\n",
            "EPOCH 960 - MSE : 0.5059 - a: 2.71 -b : -1.57\n",
            "EPOCH 970 - MSE : 0.5059 - a: 2.71 -b : -1.57\n",
            "EPOCH 980 - MSE : 0.5059 - a: 2.71 -b : -1.57\n",
            "EPOCH 990 - MSE : 0.5059 - a: 2.71 -b : -1.57\n",
            "EPOCH 1000 - MSE : 0.5059 - a: 2.71 -b : -1.57\n"
          ]
        }
      ]
    },
    {
      "cell_type": "code",
      "source": [
        "d_a_1 = -np.sum(x*y)/10*2\n",
        "d_b_1 = -np.sum(y)/10*2\n",
        "\n",
        "print(\"1 : d_a: {}   d_b: {}\". format(d_a_1, d_b_1))"
      ],
      "metadata": {
        "colab": {
          "base_uri": "https://localhost:8080/"
        },
        "id": "0i6hiv57nSI0",
        "outputId": "ede395d5-6fdc-49da-ebb9-e7104cca0f9f"
      },
      "execution_count": 59,
      "outputs": [
        {
          "output_type": "stream",
          "name": "stdout",
          "text": [
            "1 : d_a: -3.423411560058594   d_b: -0.023897886276245117\n"
          ]
        }
      ]
    },
    {
      "cell_type": "code",
      "source": [
        "a_0 = 0; b_0 = 0 \n",
        "a_1 = a_0-d_a_1*0.05\n",
        "a_1 = b_0-d_b_1*0.05\n",
        "\n",
        "print(\"\")"
      ],
      "metadata": {
        "colab": {
          "base_uri": "https://localhost:8080/"
        },
        "id": "p-_R7AkBn2c-",
        "outputId": "d2b2ff96-05a0-47f5-b5d2-4d2fe000217f"
      },
      "execution_count": 60,
      "outputs": [
        {
          "output_type": "stream",
          "name": "stdout",
          "text": [
            "\n"
          ]
        }
      ]
    },
    {
      "cell_type": "code",
      "source": [
        "y_pred = 3.16* x1 -2.22\n",
        "plt.scatter(x1,y)\n",
        "plt.plot(x,y_pred, color = 'r')\n",
        "plt.show()"
      ],
      "metadata": {
        "colab": {
          "base_uri": "https://localhost:8080/",
          "height": 432
        },
        "id": "pz44lbnFVH_4",
        "outputId": "5b7199a5-05aa-41dc-8b20-e43a083fa3e1"
      },
      "execution_count": 61,
      "outputs": [
        {
          "output_type": "display_data",
          "data": {
            "text/plain": [
              "<Figure size 640x480 with 1 Axes>"
            ],
            "image/png": "[encoded data removed]"
          },
          "metadata": {}
        }
      ]
    },
    {
      "cell_type": "code",
      "source": [
        "xx = tf.range(-5,5, 0.1)\n",
        "yy = tf.nn.sigmoid(xx)\n",
        "plt.plot(xx, yy, 'r-')\n",
        "plt.show()"
      ],
      "metadata": {
        "colab": {
          "base_uri": "https://localhost:8080/",
          "height": 430
        },
        "id": "Iv0_HTanqVzX",
        "outputId": "5e6d421e-04e7-4063-92aa-8e9352f8ee65"
      },
      "execution_count": 62,
      "outputs": [
        {
          "output_type": "display_data",
          "data": {
            "text/plain": [
              "<Figure size 640x480 with 1 Axes>"
            ],
            "image/png": "[encoded data removed]"
          },
          "metadata": {}
        }
      ]
    },
    {
      "cell_type": "code",
      "source": [
        "with tf.GradientTape() as tape:\n",
        "  tape.watch(xx)\n",
        "  yy = tf.sigmoid(xx)\n",
        "\n",
        "dy = tape.gradient(yy, xx)"
      ],
      "metadata": {
        "id": "X9mIGytEr18n"
      },
      "execution_count": 63,
      "outputs": []
    },
    {
      "cell_type": "code",
      "source": [
        "plt.plot(xx, yy, \"r-\")\n",
        "plt.plot(xx, dy, \"b--\")\n",
        "plt.show()"
      ],
      "metadata": {
        "colab": {
          "base_uri": "https://localhost:8080/",
          "height": 430
        },
        "id": "GltV4YYAsLF-",
        "outputId": "e112f36f-27de-4f98-b306-2d620d4dfdf6"
      },
      "execution_count": 64,
      "outputs": [
        {
          "output_type": "display_data",
          "data": {
            "text/plain": [
              "<Figure size 640x480 with 1 Axes>"
            ],
            "image/png": "[encoded data removed]"
          },
          "metadata": {}
        }
      ]
    },
    {
      "cell_type": "markdown",
      "source": [
        "# 경사하강법"
      ],
      "metadata": {
        "id": "qBCTfyxRvQvu"
      }
    },
    {
      "cell_type": "code",
      "source": [
        "def make_linear(w=0.5, b=0.8, size=50, noise=1.0):\n",
        "    x = np.random.rand(size)\n",
        "    y = w*x + b\n",
        "    noise  = np.random.uniform(-abs(noise), abs(noise), size = y.shape)\n",
        "\n",
        "    yy = y+noise\n",
        "    \n",
        "    plt.figure(figsize = (7, 5))\n",
        "    plt.plot(x, y, color = 'r', label = f'y = {w}*x + {b}')\n",
        "    plt.scatter(x, yy, label = 'data')\n",
        "    plt.legend(fontsize = 10)\n",
        "\n",
        "    plt.show()\n",
        "    print(f'w: {w}, b: {b}')\n",
        "\n",
        "    return x, yy\n",
        "\n",
        "x, y = make_linear(w = 0.3, b = 0.5, size = 100, noise = 0.1)"
      ],
      "metadata": {
        "colab": {
          "base_uri": "https://localhost:8080/",
          "height": 465
        },
        "id": "SPeVMWXsuU2v",
        "outputId": "c344293c-3227-462f-df13-d178c2a2a521"
      },
      "execution_count": 65,
      "outputs": [
        {
          "output_type": "display_data",
          "data": {
            "text/plain": [
              "<Figure size 700x500 with 1 Axes>"
            ],
            "image/png": "[encoded data removed]"
          },
          "metadata": {}
        },
        {
          "output_type": "stream",
          "name": "stdout",
          "text": [
            "w: 0.3, b: 0.5\n"
          ]
        }
      ]
    },
    {
      "cell_type": "markdown",
      "source": [
        "# 단순 선형 회귀 모델 만들기\n",
        "1.데이터 생성\n",
        "2. 단순 선형 회귀 모형 만들기\n",
        "3. 컴파일\n",
        "4. 훈련\n",
        "5. 검증\n",
        "6. 예측"
      ],
      "metadata": {
        "id": "FJMbz87l05i3"
      }
    },
    {
      "cell_type": "code",
      "source": [
        "x = np.arange(1, 6)\n",
        "y1 = 3*x + 2\n",
        "print(x, y1)"
      ],
      "metadata": {
        "colab": {
          "base_uri": "https://localhost:8080/"
        },
        "id": "IoDIhv7P4RaN",
        "outputId": "ebffdb72-0d23-4411-e654-9f90f247784a"
      },
      "execution_count": 66,
      "outputs": [
        {
          "output_type": "stream",
          "name": "stdout",
          "text": [
            "[1 2 3 4 5] [ 5  8 11 14 17]\n"
          ]
        }
      ]
    },
    {
      "cell_type": "code",
      "source": [
        "type(x)"
      ],
      "metadata": {
        "colab": {
          "base_uri": "https://localhost:8080/"
        },
        "id": "5L9kquEW4aYe",
        "outputId": "6080cf51-8109-4588-be0e-c661bc8d6b64"
      },
      "execution_count": 67,
      "outputs": [
        {
          "output_type": "execute_result",
          "data": {
            "text/plain": [
              "numpy.ndarray"
            ]
          },
          "metadata": {},
          "execution_count": 67
        }
      ]
    },
    {
      "cell_type": "code",
      "source": [
        "type(y1)"
      ],
      "metadata": {
        "colab": {
          "base_uri": "https://localhost:8080/"
        },
        "id": "aGVXc0zt4cMu",
        "outputId": "a66a5f92-1986-42cd-c82e-ba1b329fdc23"
      },
      "execution_count": 68,
      "outputs": [
        {
          "output_type": "execute_result",
          "data": {
            "text/plain": [
              "numpy.ndarray"
            ]
          },
          "metadata": {},
          "execution_count": 68
        }
      ]
    },
    {
      "cell_type": "code",
      "source": [
        "plt.figure(figsize = (5, 3))\n",
        "plt.plot(x, y1, 'b-')\n",
        "plt.show()"
      ],
      "metadata": {
        "colab": {
          "base_uri": "https://localhost:8080/",
          "height": 291
        },
        "id": "3rJy4Vi44el7",
        "outputId": "280427ed-6565-4cfa-eaf4-5dd34bdcdf21"
      },
      "execution_count": 69,
      "outputs": [
        {
          "output_type": "display_data",
          "data": {
            "text/plain": [
              "<Figure size 500x300 with 1 Axes>"
            ],
            "image/png": "[encoded data removed]"
          },
          "metadata": {}
        }
      ]
    },
    {
      "cell_type": "code",
      "source": [
        "tf.keras,layers.Dense(10, activation = 'relu')"
      ],
      "metadata": {
        "id": "i-G1XEOH43co",
        "colab": {
          "base_uri": "https://localhost:8080/",
          "height": 172
        },
        "outputId": "83d72793-5b7e-4e5c-cb28-dbcfbd73903e"
      },
      "execution_count": 70,
      "outputs": [
        {
          "output_type": "error",
          "ename": "NameError",
          "evalue": "ignored",
          "traceback": [
            "\u001b[0;31m---------------------------------------------------------------------------\u001b[0m",
            "\u001b[0;31mNameError\u001b[0m                                 Traceback (most recent call last)",
            "\u001b[0;32m<ipython-input-70-017eb87b391f>\u001b[0m in \u001b[0;36m<cell line: 1>\u001b[0;34m()\u001b[0m\n\u001b[0;32m----> 1\u001b[0;31m \u001b[0mtf\u001b[0m\u001b[0;34m.\u001b[0m\u001b[0mkeras\u001b[0m\u001b[0;34m,\u001b[0m\u001b[0mlayers\u001b[0m\u001b[0;34m.\u001b[0m\u001b[0mDense\u001b[0m\u001b[0;34m(\u001b[0m\u001b[0;36m10\u001b[0m\u001b[0;34m,\u001b[0m \u001b[0mactivation\u001b[0m \u001b[0;34m=\u001b[0m \u001b[0;34m'relu'\u001b[0m\u001b[0;34m)\u001b[0m\u001b[0;34m\u001b[0m\u001b[0;34m\u001b[0m\u001b[0m\n\u001b[0m",
            "\u001b[0;31mNameError\u001b[0m: name 'layers' is not defined"
          ]
        }
      ]
    },
    {
      "cell_type": "code",
      "source": [
        "model1 = tf.keras.Sequential([\n",
        "    tf.keras.layers.Dense(1, input_shape = [1]),\n",
        "])"
      ],
      "metadata": {
        "id": "EMD8ExSxyzNv"
      },
      "execution_count": null,
      "outputs": []
    },
    {
      "cell_type": "code",
      "source": [
        "model1.summary()"
      ],
      "metadata": {
        "id": "x8ma5IHX1JfU"
      },
      "execution_count": null,
      "outputs": []
    },
    {
      "cell_type": "code",
      "source": [
        "#옵티마이저: 경사하강법, 손실함수: 평균제곱오차함수. 평가지표, 평균절대오차\n",
        "model1.compile(optimizer = 'sgd', loss = 'mse', metrics = ['mae'])"
      ],
      "metadata": {
        "id": "Vt36Ta2T1Jvt",
        "colab": {
          "base_uri": "https://localhost:8080/",
          "height": 190
        },
        "outputId": "2d239a2c-fc73-4611-fdc2-8de402b9a76b"
      },
      "execution_count": 71,
      "outputs": [
        {
          "output_type": "error",
          "ename": "NameError",
          "evalue": "ignored",
          "traceback": [
            "\u001b[0;31m---------------------------------------------------------------------------\u001b[0m",
            "\u001b[0;31mNameError\u001b[0m                                 Traceback (most recent call last)",
            "\u001b[0;32m<ipython-input-71-67478187cefc>\u001b[0m in \u001b[0;36m<cell line: 2>\u001b[0;34m()\u001b[0m\n\u001b[1;32m      1\u001b[0m \u001b[0;31m#옵티마이저: 경사하강법, 손실함수: 평균제곱오차함수. 평가지표, 평균절대오차\u001b[0m\u001b[0;34m\u001b[0m\u001b[0;34m\u001b[0m\u001b[0m\n\u001b[0;32m----> 2\u001b[0;31m \u001b[0mmodel1\u001b[0m\u001b[0;34m.\u001b[0m\u001b[0mcompile\u001b[0m\u001b[0;34m(\u001b[0m\u001b[0moptimizer\u001b[0m \u001b[0;34m=\u001b[0m \u001b[0;34m'sgd'\u001b[0m\u001b[0;34m,\u001b[0m \u001b[0mloss\u001b[0m \u001b[0;34m=\u001b[0m \u001b[0;34m'mse'\u001b[0m\u001b[0;34m,\u001b[0m \u001b[0mmetrics\u001b[0m \u001b[0;34m=\u001b[0m \u001b[0;34m[\u001b[0m\u001b[0;34m'mae'\u001b[0m\u001b[0;34m]\u001b[0m\u001b[0;34m)\u001b[0m\u001b[0;34m\u001b[0m\u001b[0;34m\u001b[0m\u001b[0m\n\u001b[0m",
            "\u001b[0;31mNameError\u001b[0m: name 'model1' is not defined"
          ]
        }
      ]
    },
    {
      "cell_type": "code",
      "source": [
        "#훈련: 데이터 셋 사용, 에포크 지정\n",
        "history1 = model1.fit(x, y1, epochs = 1200)"
      ],
      "metadata": {
        "id": "LawPMuiy1-fN"
      },
      "execution_count": null,
      "outputs": []
    },
    {
      "cell_type": "code",
      "source": [
        "plt.plot(history1. history['loss'], label = 'loss')\n",
        "plt.plot(history1. history['mae'], label = 'mae')\n",
        "\n",
        "plt.xlim(-1, 20)\n",
        "plt.title(\"Loss\")\n",
        "plt.legend()\n",
        "plt.show()"
      ],
      "metadata": {
        "colab": {
          "base_uri": "https://localhost:8080/",
          "height": 245
        },
        "id": "tmlsR-d62MPH",
        "outputId": "3fe4aa04-5333-400d-9367-ed37d798eacd"
      },
      "execution_count": 72,
      "outputs": [
        {
          "output_type": "error",
          "ename": "NameError",
          "evalue": "ignored",
          "traceback": [
            "\u001b[0;31m---------------------------------------------------------------------------\u001b[0m",
            "\u001b[0;31mNameError\u001b[0m                                 Traceback (most recent call last)",
            "\u001b[0;32m<ipython-input-72-118653f55dd3>\u001b[0m in \u001b[0;36m<cell line: 1>\u001b[0;34m()\u001b[0m\n\u001b[0;32m----> 1\u001b[0;31m \u001b[0mplt\u001b[0m\u001b[0;34m.\u001b[0m\u001b[0mplot\u001b[0m\u001b[0;34m(\u001b[0m\u001b[0mhistory1\u001b[0m\u001b[0;34m.\u001b[0m \u001b[0mhistory\u001b[0m\u001b[0;34m[\u001b[0m\u001b[0;34m'loss'\u001b[0m\u001b[0;34m]\u001b[0m\u001b[0;34m,\u001b[0m \u001b[0mlabel\u001b[0m \u001b[0;34m=\u001b[0m \u001b[0;34m'loss'\u001b[0m\u001b[0;34m)\u001b[0m\u001b[0;34m\u001b[0m\u001b[0;34m\u001b[0m\u001b[0m\n\u001b[0m\u001b[1;32m      2\u001b[0m \u001b[0mplt\u001b[0m\u001b[0;34m.\u001b[0m\u001b[0mplot\u001b[0m\u001b[0;34m(\u001b[0m\u001b[0mhistory1\u001b[0m\u001b[0;34m.\u001b[0m \u001b[0mhistory\u001b[0m\u001b[0;34m[\u001b[0m\u001b[0;34m'mae'\u001b[0m\u001b[0;34m]\u001b[0m\u001b[0;34m,\u001b[0m \u001b[0mlabel\u001b[0m \u001b[0;34m=\u001b[0m \u001b[0;34m'mae'\u001b[0m\u001b[0;34m)\u001b[0m\u001b[0;34m\u001b[0m\u001b[0;34m\u001b[0m\u001b[0m\n\u001b[1;32m      3\u001b[0m \u001b[0;34m\u001b[0m\u001b[0m\n\u001b[1;32m      4\u001b[0m \u001b[0mplt\u001b[0m\u001b[0;34m.\u001b[0m\u001b[0mxlim\u001b[0m\u001b[0;34m(\u001b[0m\u001b[0;34m-\u001b[0m\u001b[0;36m1\u001b[0m\u001b[0;34m,\u001b[0m \u001b[0;36m20\u001b[0m\u001b[0;34m)\u001b[0m\u001b[0;34m\u001b[0m\u001b[0;34m\u001b[0m\u001b[0m\n\u001b[1;32m      5\u001b[0m \u001b[0mplt\u001b[0m\u001b[0;34m.\u001b[0m\u001b[0mtitle\u001b[0m\u001b[0;34m(\u001b[0m\u001b[0;34m\"Loss\"\u001b[0m\u001b[0;34m)\u001b[0m\u001b[0;34m\u001b[0m\u001b[0;34m\u001b[0m\u001b[0m\n",
            "\u001b[0;31mNameError\u001b[0m: name 'history1' is not defined"
          ]
        }
      ]
    },
    {
      "cell_type": "code",
      "source": [
        "model1.evaluate(x, y1)"
      ],
      "metadata": {
        "colab": {
          "base_uri": "https://localhost:8080/",
          "height": 172
        },
        "id": "xL14qcxo3d0U",
        "outputId": "95752f87-8214-4402-d7aa-14f993323479"
      },
      "execution_count": 73,
      "outputs": [
        {
          "output_type": "error",
          "ename": "NameError",
          "evalue": "ignored",
          "traceback": [
            "\u001b[0;31m---------------------------------------------------------------------------\u001b[0m",
            "\u001b[0;31mNameError\u001b[0m                                 Traceback (most recent call last)",
            "\u001b[0;32m<ipython-input-73-8be15349fa13>\u001b[0m in \u001b[0;36m<cell line: 1>\u001b[0;34m()\u001b[0m\n\u001b[0;32m----> 1\u001b[0;31m \u001b[0mmodel1\u001b[0m\u001b[0;34m.\u001b[0m\u001b[0mevaluate\u001b[0m\u001b[0;34m(\u001b[0m\u001b[0mx\u001b[0m\u001b[0;34m,\u001b[0m \u001b[0my1\u001b[0m\u001b[0;34m)\u001b[0m\u001b[0;34m\u001b[0m\u001b[0;34m\u001b[0m\u001b[0m\n\u001b[0m",
            "\u001b[0;31mNameError\u001b[0m: name 'model1' is not defined"
          ]
        }
      ]
    },
    {
      "cell_type": "code",
      "source": [
        "model1.predict([10])"
      ],
      "metadata": {
        "colab": {
          "base_uri": "https://localhost:8080/",
          "height": 172
        },
        "id": "lnhM_YiM3XUt",
        "outputId": "98a3d9c7-b3ec-4da3-ad34-95098fe1efd9"
      },
      "execution_count": 74,
      "outputs": [
        {
          "output_type": "error",
          "ename": "NameError",
          "evalue": "ignored",
          "traceback": [
            "\u001b[0;31m---------------------------------------------------------------------------\u001b[0m",
            "\u001b[0;31mNameError\u001b[0m                                 Traceback (most recent call last)",
            "\u001b[0;32m<ipython-input-74-cfb4bd408af3>\u001b[0m in \u001b[0;36m<cell line: 1>\u001b[0;34m()\u001b[0m\n\u001b[0;32m----> 1\u001b[0;31m \u001b[0mmodel1\u001b[0m\u001b[0;34m.\u001b[0m\u001b[0mpredict\u001b[0m\u001b[0;34m(\u001b[0m\u001b[0;34m[\u001b[0m\u001b[0;36m10\u001b[0m\u001b[0;34m]\u001b[0m\u001b[0;34m)\u001b[0m\u001b[0;34m\u001b[0m\u001b[0;34m\u001b[0m\u001b[0m\n\u001b[0m",
            "\u001b[0;31mNameError\u001b[0m: name 'model1' is not defined"
          ]
        }
      ]
    },
    {
      "cell_type": "markdown",
      "source": [
        "# mse 값 비교 후 break"
      ],
      "metadata": {
        "id": "TcpCWTPBUP09"
      }
    },
    {
      "cell_type": "code",
      "source": [
        "g = tf.random.Generator.from_seed(2020)\n",
        "x = g.normal(shape = (10,))\n",
        "noise_1 = np.random.normal(0.1, size = (10,))\n",
        "y = 3*x - 2 + noise_1"
      ],
      "metadata": {
        "id": "g2Q3rS5xQo1Z"
      },
      "execution_count": 75,
      "outputs": []
    },
    {
      "cell_type": "code",
      "source": [
        "a = tf.Variable(0.0)\n",
        "b = tf.Variable(0.0)\n",
        "\n",
        "EPOCHS = 500\n",
        "prev_mse = 0.0\n",
        "\n",
        "for epoch in range(1, EPOCHS+1):\n",
        "    with tf.GradientTape() as tape:\n",
        "        mse = cal_mse(x, y_1, a, b)\n",
        "    if abs(mse - prev_mse) < 0.000001:\n",
        "        break\n",
        "    prev_mse = mse\n",
        "    \n",
        "    grade = tape.gradient(mse, {'a':a, 'b':b})\n",
        "    d_a, d_b = grade['a'], grade['b']\n",
        "    a.assign_sub(d_a * 0.05)## a = a - d_a*0.05(학습률)\n",
        "    b.assign_sub(d_b * 0.05)## b = b - d_b*0.05(학습률)\n",
        "\n",
        "    if epoch % 10 == 0:\n",
        "        print(\"EPOCH %d - MSE : %.4f - a: %.2f - b : %.2f\"%(epoch, mse, a, b))"
      ],
      "metadata": {
        "colab": {
          "base_uri": "https://localhost:8080/"
        },
        "id": "IoiItryzQwNw",
        "outputId": "54d14af8-d0a2-49a8-ec35-6a3e66f951da"
      },
      "execution_count": 76,
      "outputs": [
        {
          "output_type": "stream",
          "name": "stdout",
          "text": [
            "EPOCH 10 - MSE : 2.2086 - a: 1.11 - b : -0.13\n",
            "EPOCH 20 - MSE : 1.3415 - a: 1.63 - b : -0.50\n",
            "EPOCH 30 - MSE : 0.9254 - a: 1.95 - b : -0.80\n",
            "EPOCH 40 - MSE : 0.7167 - a: 2.18 - b : -1.02\n",
            "EPOCH 50 - MSE : 0.6119 - a: 2.33 - b : -1.18\n",
            "EPOCH 60 - MSE : 0.5592 - a: 2.44 - b : -1.29\n",
            "EPOCH 70 - MSE : 0.5327 - a: 2.52 - b : -1.37\n",
            "EPOCH 80 - MSE : 0.5194 - a: 2.58 - b : -1.43\n",
            "EPOCH 90 - MSE : 0.5127 - a: 2.62 - b : -1.47\n",
            "EPOCH 100 - MSE : 0.5093 - a: 2.64 - b : -1.50\n",
            "EPOCH 110 - MSE : 0.5076 - a: 2.66 - b : -1.52\n",
            "EPOCH 120 - MSE : 0.5068 - a: 2.68 - b : -1.53\n",
            "EPOCH 130 - MSE : 0.5063 - a: 2.69 - b : -1.54\n",
            "EPOCH 140 - MSE : 0.5061 - a: 2.70 - b : -1.55\n",
            "EPOCH 150 - MSE : 0.5060 - a: 2.70 - b : -1.55\n",
            "EPOCH 160 - MSE : 0.5060 - a: 2.70 - b : -1.56\n",
            "EPOCH 170 - MSE : 0.5059 - a: 2.71 - b : -1.56\n",
            "EPOCH 180 - MSE : 0.5059 - a: 2.71 - b : -1.56\n"
          ]
        }
      ]
    },
    {
      "cell_type": "code",
      "source": [
        "y_pred = 3.27*x -2.36\n",
        "plt.scatter(x,y)\n",
        "plt.plot(x, y_pred, color = 'r')\n",
        "plt.show()"
      ],
      "metadata": {
        "colab": {
          "base_uri": "https://localhost:8080/",
          "height": 430
        },
        "id": "xUxQ7vGdQ0pP",
        "outputId": "05dfc257-231c-42b0-cd6a-66eb9bcadab3"
      },
      "execution_count": 77,
      "outputs": [
        {
          "output_type": "display_data",
          "data": {
            "text/plain": [
              "<Figure size 640x480 with 1 Axes>"
            ],
            "image/png": "[encoded data removed]"
          },
          "metadata": {}
        }
      ]
    }
  ]
}